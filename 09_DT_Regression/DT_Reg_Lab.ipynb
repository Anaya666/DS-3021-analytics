{
 "cells": [
  {
   "cell_type": "markdown",
   "metadata": {},
   "source": [
    "\n",
    "Congrats....again! Based off the amazing work you did on the classification model, you've been promoted to chief of all data scientists in Hollywood, your a total celebrity....among data scientists :).  \n",
    "\n",
    "Your boss, head of the studio, has now asked you to build a model to predict gross revenue in order to help them decide which movies to invest in.\n",
    "\n",
    "Once again, you would like to be able to explain the model to mere mortals but need a fairly robust and flexible approach so you've chosen to use decision trees to get started. \n",
    "\n",
    "In doing so...you leverage work you've done in the past to get the job done....you're a data scientist after all! "
   ]
  },
  {
   "cell_type": "code",
   "execution_count": 1,
   "metadata": {},
   "outputs": [
    {
     "name": "stdout",
     "output_type": "stream",
     "text": [
      "Requirement already satisfied: scikit-learn in /Library/Frameworks/Python.framework/Versions/3.12/lib/python3.12/site-packages (1.6.1)\n",
      "Requirement already satisfied: numpy>=1.19.5 in /Library/Frameworks/Python.framework/Versions/3.12/lib/python3.12/site-packages (from scikit-learn) (2.2.1)\n",
      "Requirement already satisfied: scipy>=1.6.0 in /Library/Frameworks/Python.framework/Versions/3.12/lib/python3.12/site-packages (from scikit-learn) (1.15.2)\n",
      "Requirement already satisfied: joblib>=1.2.0 in /Library/Frameworks/Python.framework/Versions/3.12/lib/python3.12/site-packages (from scikit-learn) (1.4.2)\n",
      "Requirement already satisfied: threadpoolctl>=3.1.0 in /Library/Frameworks/Python.framework/Versions/3.12/lib/python3.12/site-packages (from scikit-learn) (3.6.0)\n",
      "Note: you may need to restart the kernel to use updated packages.\n"
     ]
    }
   ],
   "source": [
    "pip install scikit-learn"
   ]
  },
  {
   "cell_type": "code",
   "execution_count": 15,
   "metadata": {},
   "outputs": [
    {
     "name": "stdout",
     "output_type": "stream",
     "text": [
      "Collecting seaborn\n",
      "  Downloading seaborn-0.13.2-py3-none-any.whl.metadata (5.4 kB)\n",
      "Requirement already satisfied: numpy!=1.24.0,>=1.20 in /Library/Frameworks/Python.framework/Versions/3.12/lib/python3.12/site-packages (from seaborn) (2.2.1)\n",
      "Requirement already satisfied: pandas>=1.2 in /Library/Frameworks/Python.framework/Versions/3.12/lib/python3.12/site-packages (from seaborn) (2.2.3)\n",
      "Requirement already satisfied: matplotlib!=3.6.1,>=3.4 in /Library/Frameworks/Python.framework/Versions/3.12/lib/python3.12/site-packages (from seaborn) (3.10.0)\n",
      "Requirement already satisfied: contourpy>=1.0.1 in /Library/Frameworks/Python.framework/Versions/3.12/lib/python3.12/site-packages (from matplotlib!=3.6.1,>=3.4->seaborn) (1.3.1)\n",
      "Requirement already satisfied: cycler>=0.10 in /Library/Frameworks/Python.framework/Versions/3.12/lib/python3.12/site-packages (from matplotlib!=3.6.1,>=3.4->seaborn) (0.12.1)\n",
      "Requirement already satisfied: fonttools>=4.22.0 in /Library/Frameworks/Python.framework/Versions/3.12/lib/python3.12/site-packages (from matplotlib!=3.6.1,>=3.4->seaborn) (4.56.0)\n",
      "Requirement already satisfied: kiwisolver>=1.3.1 in /Library/Frameworks/Python.framework/Versions/3.12/lib/python3.12/site-packages (from matplotlib!=3.6.1,>=3.4->seaborn) (1.4.8)\n",
      "Requirement already satisfied: packaging>=20.0 in /Library/Frameworks/Python.framework/Versions/3.12/lib/python3.12/site-packages (from matplotlib!=3.6.1,>=3.4->seaborn) (24.2)\n",
      "Requirement already satisfied: pillow>=8 in /Library/Frameworks/Python.framework/Versions/3.12/lib/python3.12/site-packages (from matplotlib!=3.6.1,>=3.4->seaborn) (11.1.0)\n",
      "Requirement already satisfied: pyparsing>=2.3.1 in /Library/Frameworks/Python.framework/Versions/3.12/lib/python3.12/site-packages (from matplotlib!=3.6.1,>=3.4->seaborn) (3.2.1)\n",
      "Requirement already satisfied: python-dateutil>=2.7 in /Library/Frameworks/Python.framework/Versions/3.12/lib/python3.12/site-packages (from matplotlib!=3.6.1,>=3.4->seaborn) (2.9.0.post0)\n",
      "Requirement already satisfied: pytz>=2020.1 in /Library/Frameworks/Python.framework/Versions/3.12/lib/python3.12/site-packages (from pandas>=1.2->seaborn) (2024.2)\n",
      "Requirement already satisfied: tzdata>=2022.7 in /Library/Frameworks/Python.framework/Versions/3.12/lib/python3.12/site-packages (from pandas>=1.2->seaborn) (2024.2)\n",
      "Requirement already satisfied: six>=1.5 in /Library/Frameworks/Python.framework/Versions/3.12/lib/python3.12/site-packages (from python-dateutil>=2.7->matplotlib!=3.6.1,>=3.4->seaborn) (1.17.0)\n",
      "Downloading seaborn-0.13.2-py3-none-any.whl (294 kB)\n",
      "Installing collected packages: seaborn\n",
      "Successfully installed seaborn-0.13.2\n",
      "Note: you may need to restart the kernel to use updated packages.\n"
     ]
    }
   ],
   "source": [
    "pip install seaborn"
   ]
  },
  {
   "cell_type": "code",
   "execution_count": 39,
   "metadata": {},
   "outputs": [
    {
     "name": "stdout",
     "output_type": "stream",
     "text": [
      "Collecting graphviz\n",
      "  Downloading graphviz-0.20.3-py3-none-any.whl.metadata (12 kB)\n",
      "Downloading graphviz-0.20.3-py3-none-any.whl (47 kB)\n",
      "Installing collected packages: graphviz\n",
      "Successfully installed graphviz-0.20.3\n",
      "Note: you may need to restart the kernel to use updated packages.\n"
     ]
    }
   ],
   "source": [
    "pip install graphviz"
   ]
  },
  {
   "cell_type": "code",
   "execution_count": 88,
   "metadata": {},
   "outputs": [],
   "source": [
    "import pandas as pd\n",
    "import numpy as np\n",
    "import sklearn\n",
    "import matplotlib.pyplot as plt\n",
    "import seaborn as sns\n",
    "import graphviz \n",
    "from sklearn.model_selection import train_test_split     # for splitting data\n",
    "from sklearn.model_selection import KFold                # for cross-validation\n",
    "from sklearn.model_selection import GridSearchCV     \n",
    "from sklearn.tree import DecisionTreeClassifier  \n",
    "from sklearn.tree import DecisionTreeRegressor\n",
    "from sklearn import metrics\n",
    "from sklearn.preprocessing import OrdinalEncoder\n",
    "from sklearn.tree import export_graphviz \n",
    "from sklearn.pipeline import make_pipeline,Pipeline\n",
    "from sklearn.compose import ColumnTransformer\n",
    "from sklearn.impute import SimpleImputer\n",
    "from sklearn.preprocessing import OneHotEncoder\n",
    "from sklearn.metrics import mean_squared_error, mean_absolute_error, r2_score"
   ]
  },
  {
   "cell_type": "code",
   "execution_count": 92,
   "metadata": {},
   "outputs": [
    {
     "name": "stdout",
     "output_type": "stream",
     "text": [
      "/Users/anayanath/rainbow/DS-3021-analytics-1/09_DT_Regression\n",
      "   color      director_name  num_critic_for_reviews  duration  \\\n",
      "0  Color      James Cameron                   723.0     178.0   \n",
      "1  Color     Gore Verbinski                   302.0     169.0   \n",
      "2  Color         Sam Mendes                   602.0     148.0   \n",
      "3  Color  Christopher Nolan                   813.0     164.0   \n",
      "4    NaN        Doug Walker                     NaN       NaN   \n",
      "\n",
      "   director_facebook_likes  actor_3_facebook_likes      actor_2_name  \\\n",
      "0                      0.0                   855.0  Joel David Moore   \n",
      "1                    563.0                  1000.0     Orlando Bloom   \n",
      "2                      0.0                   161.0      Rory Kinnear   \n",
      "3                  22000.0                 23000.0    Christian Bale   \n",
      "4                    131.0                     NaN        Rob Walker   \n",
      "\n",
      "   actor_1_facebook_likes        gross                           genres  ...  \\\n",
      "0                  1000.0  760505847.0  Action|Adventure|Fantasy|Sci-Fi  ...   \n",
      "1                 40000.0  309404152.0         Action|Adventure|Fantasy  ...   \n",
      "2                 11000.0  200074175.0        Action|Adventure|Thriller  ...   \n",
      "3                 27000.0  448130642.0                  Action|Thriller  ...   \n",
      "4                   131.0          NaN                      Documentary  ...   \n",
      "\n",
      "  num_user_for_reviews language  country  content_rating       budget  \\\n",
      "0               3054.0  English      USA           PG-13  237000000.0   \n",
      "1               1238.0  English      USA           PG-13  300000000.0   \n",
      "2                994.0  English       UK           PG-13  245000000.0   \n",
      "3               2701.0  English      USA           PG-13  250000000.0   \n",
      "4                  NaN      NaN      NaN             NaN          NaN   \n",
      "\n",
      "   title_year actor_2_facebook_likes imdb_score  aspect_ratio  \\\n",
      "0      2009.0                  936.0        7.9          1.78   \n",
      "1      2007.0                 5000.0        7.1          2.35   \n",
      "2      2015.0                  393.0        6.8          2.35   \n",
      "3      2012.0                23000.0        8.5          2.35   \n",
      "4         NaN                   12.0        7.1           NaN   \n",
      "\n",
      "  movie_facebook_likes  \n",
      "0                33000  \n",
      "1                    0  \n",
      "2                85000  \n",
      "3               164000  \n",
      "4                    0  \n",
      "\n",
      "[5 rows x 28 columns]\n",
      "0                                                 Avatar \n",
      "1               Pirates of the Caribbean: At World's End \n",
      "2                                                Spectre \n",
      "3                                  The Dark Knight Rises \n",
      "4       Star Wars: Episode VII - The Force Awakens    ...\n",
      "                              ...                        \n",
      "5038                             Signed Sealed Delivered \n",
      "5039                           The Following             \n",
      "5040                                A Plague So Pleasant \n",
      "5041                                    Shanghai Calling \n",
      "5042                                   My Date with Drew \n",
      "Name: movie_title, Length: 5043, dtype: object\n"
     ]
    }
   ],
   "source": [
    "#1. Load the data\n",
    "#Sometimes need to set the working directory back out of a folder that we create a file in\n",
    "import os\n",
    "print(os.getcwd())\n",
    "movie_metadata = pd.read_csv(\"../data/movie_metadata.csv\")\n",
    "print(movie_metadata.head())\n",
    "print(movie_metadata['movie_title'])\n"
   ]
  },
  {
   "cell_type": "markdown",
   "metadata": {},
   "source": [
    "#2 Ensure all the variables are classified correctly and collapse factor variables as needed."
   ]
  },
  {
   "cell_type": "code",
   "execution_count": 40,
   "metadata": {},
   "outputs": [
    {
     "name": "stdout",
     "output_type": "stream",
     "text": [
      "<class 'pandas.core.frame.DataFrame'>\n",
      "RangeIndex: 5043 entries, 0 to 5042\n",
      "Columns: 174 entries, director_name to Western\n",
      "dtypes: float64(14), int64(160)\n",
      "memory usage: 6.7 MB\n",
      "None\n"
     ]
    }
   ],
   "source": [
    "# Start with a fresh copy of your cleaned data\n",
    "movie_metadata_encoded = movie_metadata.copy()\n",
    "\n",
    "# One-hot encode low-cardinality categorical columns\n",
    "categorical_cols = ['color', 'language', 'country', 'content_rating']\n",
    "movie_metadata_encoded = pd.get_dummies(movie_metadata_encoded, columns=categorical_cols, drop_first=True)\n",
    "\n",
    "#Frequency encode high-cardinality columns\n",
    "high_cardinality_cols = ['director_name', 'actor_1_name', 'actor_2_name', 'actor_3_name']\n",
    "for col in high_cardinality_cols:\n",
    "    freq = movie_metadata_encoded[col].value_counts()\n",
    "    movie_metadata_encoded[col] = movie_metadata_encoded[col].map(freq)\n",
    "\n",
    "#One-hot encode multi-genre column\n",
    "movie_metadata_encoded['genres'] = movie_metadata_encoded['genres'].str.split('|')\n",
    "genres_dummies = movie_metadata_encoded['genres'].str.join('|').str.get_dummies(sep='|')\n",
    "movie_metadata_encoded = pd.concat([movie_metadata_encoded, genres_dummies], axis=1)\n",
    "movie_metadata_encoded.drop('genres', axis=1, inplace=True)\n",
    "\n",
    "bool_cols = movie_metadata_encoded.select_dtypes(include='bool').columns\n",
    "movie_metadata_encoded[bool_cols] = movie_metadata_encoded[bool_cols].astype(int)\n",
    "\n",
    "#Check data types to confirm all numeric\n",
    "print(movie_metadata_encoded.info())"
   ]
  },
  {
   "cell_type": "markdown",
   "metadata": {},
   "source": [
    "#3 Check for missing variables and correct as needed."
   ]
  },
  {
   "cell_type": "code",
   "execution_count": 42,
   "metadata": {},
   "outputs": [
    {
     "name": "stdout",
     "output_type": "stream",
     "text": [
      "False\n",
      "director_name              0\n",
      "num_critic_for_reviews     0\n",
      "duration                   0\n",
      "director_facebook_likes    0\n",
      "actor_3_facebook_likes     0\n",
      "                          ..\n",
      "Short                      0\n",
      "Sport                      0\n",
      "Thriller                   0\n",
      "War                        0\n",
      "Western                    0\n",
      "Length: 174, dtype: int64\n"
     ]
    }
   ],
   "source": [
    "# Check if any missing values exist\n",
    "print(movie_metadata_encoded.isnull().values.any())\n",
    "\n",
    "# Count missing values per column\n",
    "print(movie_metadata_encoded.isnull().sum())\n"
   ]
  },
  {
   "cell_type": "markdown",
   "metadata": {},
   "source": [
    "#4 Guess what, you don't need to scale the data, because DTs don't require this to be done, they make local greedy decisions...keeps getting easier, go to the next step."
   ]
  },
  {
   "cell_type": "markdown",
   "metadata": {},
   "source": [
    "#5 Determine the variance of the target variable, is it normally distributed? If not, you may want to transform the target variable. Why might this be important?"
   ]
  },
  {
   "cell_type": "code",
   "execution_count": 43,
   "metadata": {},
   "outputs": [
    {
     "name": "stdout",
     "output_type": "stream",
     "text": [
      "count    5.043000e+03\n",
      "mean     4.444529e+07\n",
      "std      6.277281e+07\n",
      "min      1.620000e+02\n",
      "25%      8.460992e+06\n",
      "50%      2.551750e+07\n",
      "75%      5.135707e+07\n",
      "max      7.605058e+08\n",
      "Name: gross, dtype: float64\n",
      "Variance of gross revenue: 3940425267819367.5\n"
     ]
    },
    {
     "data": {
      "image/png": "[encoded data removed]",
      "text/plain": [
       "<Figure size 1000x600 with 1 Axes>"
      ]
     },
     "metadata": {},
     "output_type": "display_data"
    },
    {
     "data": {
      "image/png": "[encoded data removed]",
      "text/plain": [
       "<Figure size 1000x600 with 1 Axes>"
      ]
     },
     "metadata": {},
     "output_type": "display_data"
    }
   ],
   "source": [
    "gross_variance = movie_metadata_encoded['gross'].var()\n",
    "print(movie_metadata_encoded['gross'].describe())\n",
    "print(\"Variance of gross revenue:\", gross_variance)\n",
    "\n",
    "# 2. Plotting a histogram and distribution curve\n",
    "plt.figure(figsize=(10, 6))\n",
    "sns.histplot(movie_metadata_encoded['gross'], kde=True)\n",
    "plt.title(\"Distribution of Gross Revenue\")\n",
    "plt.xlabel(\"Gross Revenue\")\n",
    "plt.ylabel(\"Frequency\")\n",
    "plt.show()\n",
    "#the data is skewed to the right \n",
    "#Thus, I will apply a log transformation for a more appropriate visualisation \n",
    "\n",
    "movie_metadata_encoded['log_gross'] = np.log1p(movie_metadata_encoded['gross'])\n",
    "\n",
    "# Plotting the transformed version\n",
    "plt.figure(figsize=(10, 6))\n",
    "sns.histplot(movie_metadata_encoded['log_gross'], kde=True, color='green')\n",
    "plt.title(\"Distribution of Log-Transformed Gross Revenue\")\n",
    "plt.xlabel(\"Log(Gross Revenue + 1)\")\n",
    "plt.ylabel(\"Frequency\")\n",
    "plt.show()\n",
    "\n",
    "#The gross revenue is not normally distributed; it is heavily right-skewed, with a few blockbuster films earning significantly more than most others. \n",
    "#To this end, I applied a log transformation to reduce the impact of outliers and stabalise the variance. \n",
    "#This is important because a more balanced distribution can help the model learn patterns more effectively and make more accurate predictions, especially in regression tasks.\n"
   ]
  },
  {
   "cell_type": "markdown",
   "metadata": {},
   "source": [
    "#6 Split your data into test, tune, and train. (80/10/10)0)"
   ]
  },
  {
   "cell_type": "code",
   "execution_count": 71,
   "metadata": {},
   "outputs": [],
   "source": [
    "# Train (80%) and Temp (20% for tune + test)\n",
    "X = movie_metadata_encoded.drop(['gross', 'log_gross'], axis=1)\n",
    "y = movie_metadata_encoded['gross']\n",
    "train_data, temp_data = train_test_split(movie_metadata_encoded, test_size=0.2, random_state=42)\n",
    "\n",
    "# Temp data (20%) split into tune data (10%) and test data (10%)\n",
    "tune_data, test_data = train_test_split(temp_data, test_size=0.5, random_state=42)\n",
    "\n",
    "X_train, X_temp, y_train, y_temp = train_test_split( X, y, test_size=0.2, random_state=42)\n",
    "X_tune, X_test, y_tune, y_test = train_test_split( X_temp, y_temp, test_size=0.5, random_state=42)"
   ]
  },
  {
   "cell_type": "markdown",
   "metadata": {},
   "source": [
    "#7 Create the kfold object for cross validation"
   ]
  },
  {
   "cell_type": "code",
   "execution_count": 72,
   "metadata": {},
   "outputs": [],
   "source": [
    "from sklearn.model_selection import RepeatedStratifiedKFold\n",
    "kf = KFold(n_splits=10, shuffle=True, random_state=42)\n"
   ]
  },
  {
   "cell_type": "markdown",
   "metadata": {},
   "source": [
    "#8 Create the scoring metric (several measures) you will use to evaluate your model and choose a hyperparamater to optimize."
   ]
  },
  {
   "cell_type": "code",
   "execution_count": 73,
   "metadata": {},
   "outputs": [],
   "source": [
    "# hyperparameter:\n",
    "#I chose max_depth because it controls how deep the decision tree can grow \n",
    "param_grid = {\n",
    "    'max_depth': list(range(1, 21))  # test tree depths from 1 to 20\n",
    "}\n",
    "\n",
    "# 2.regression scoring metrics:\n",
    "#I chose RMSE because it shows the average size of prediction errors and gives more weight to large errors. It's in the same units as gross revenue.\n",
    "#I chose R^2 because it measures how well the model explains the variation in gross revenue.\n",
    "#I chose MAE because it shows the average error size. It’s easier to interpret and less sensitive to outliers than RMSE.\n",
    "scoring = {\n",
    "    'RMSE': 'neg_root_mean_squared_error',\n",
    "    'R2': 'r2',\n",
    "    'MAE': 'neg_mean_absolute_error'\n",
    "}\n"
   ]
  },
  {
   "cell_type": "markdown",
   "metadata": {},
   "source": [
    "#9 Build the regression tree object. "
   ]
  },
  {
   "cell_type": "code",
   "execution_count": 74,
   "metadata": {},
   "outputs": [],
   "source": [
    "reg=DecisionTreeRegressor(random_state=42)\n"
   ]
  },
  {
   "cell_type": "markdown",
   "metadata": {},
   "source": [
    "#10 Use the kfold object and the scoring metric to find the best hyperparameter value for max depth via the grid search method.\n"
   ]
  },
  {
   "cell_type": "code",
   "execution_count": 75,
   "metadata": {},
   "outputs": [
    {
     "name": "stdout",
     "output_type": "stream",
     "text": [
      "DecisionTreeRegressor(max_depth=5, random_state=42)\n"
     ]
    }
   ],
   "source": [
    "search = GridSearchCV(reg, param_grid, scoring=scoring, n_jobs=-1, cv=kf,refit='R2')\n",
    "model = search.fit(X_train, y_train)\n",
    "best= model.best_estimator_\n",
    "print(best)"
   ]
  },
  {
   "cell_type": "markdown",
   "metadata": {},
   "source": [
    "#11 Fit the model to the training data."
   ]
  },
  {
   "cell_type": "code",
   "execution_count": 76,
   "metadata": {},
   "outputs": [
    {
     "name": "stdout",
     "output_type": "stream",
     "text": [
      "Best model: Pipeline(steps=[('preprocessor',\n",
      "                 ColumnTransformer(transformers=[('num',\n",
      "                                                  SimpleImputer(strategy='median'),\n",
      "                                                  Index(['director_name', 'num_critic_for_reviews', 'duration',\n",
      "       'director_facebook_likes', 'actor_3_facebook_likes', 'actor_2_name',\n",
      "       'actor_1_facebook_likes', 'actor_1_name', 'num_voted_users',\n",
      "       'cast_total_facebook_likes',\n",
      "       ...\n",
      "       'Mystery', 'News', 'Reality-TV', 'Romance', 'Sci-Fi', 'Short', 'Sport',\n",
      "       'Thriller', 'War', 'Western'],\n",
      "      dtype='object', length=172)),\n",
      "                                                 ('cat',\n",
      "                                                  Pipeline(steps=[('encoder',\n",
      "                                                                   OrdinalEncoder()),\n",
      "                                                                  ('imputer',\n",
      "                                                                   SimpleImputer(strategy='most_frequent'))]),\n",
      "                                                  Index([], dtype='object'))])),\n",
      "                ('regressor',\n",
      "                 DecisionTreeRegressor(max_depth=5, random_state=42))])\n",
      "Best R2 score: 0.543968043464465\n"
     ]
    }
   ],
   "source": [
    "# Identify numeric and categorical columns\n",
    "numlist = X.select_dtypes(include=np.number).columns\n",
    "catlist = X.select_dtypes(exclude=np.number).columns\n",
    "\n",
    "# Define transformers\n",
    "num_pipe = SimpleImputer(strategy=\"median\")\n",
    "cat_pipe = Pipeline([\n",
    "    ('encoder', OrdinalEncoder()),\n",
    "    ('imputer', SimpleImputer(strategy=\"most_frequent\"))\n",
    "])\n",
    "\n",
    "# Create column transformer\n",
    "preprocessor = ColumnTransformer([\n",
    "    ('num', num_pipe, numlist),\n",
    "    ('cat', cat_pipe, catlist)\n",
    "])\n",
    "\n",
    "# Create full pipeline\n",
    "pipe = Pipeline([\n",
    "    ('preprocessor', preprocessor),\n",
    "    ('regressor', DecisionTreeRegressor(random_state=42))\n",
    "])\n",
    "\n",
    "# Define parameter grid\n",
    "params_pipe = {\n",
    "    \"regressor__max_depth\": list(range(1, 21))\n",
    "}\n",
    "\n",
    "\n",
    "# Grid Search\n",
    "search_pipe = GridSearchCV(pipe, params_pipe, cv=kf, scoring=scoring, refit='R2', n_jobs=-1)\n",
    "model_pipe = search_pipe.fit(X_train, y_train)\n",
    "\n",
    "# Print the best estimator and its R2 score\n",
    "print(\"Best model:\", model_pipe.best_estimator_)\n",
    "print(\"Best R2 score:\", model_pipe.best_score_)"
   ]
  },
  {
   "cell_type": "code",
   "execution_count": 77,
   "metadata": {},
   "outputs": [
    {
     "data": {
      "image/png": "[encoded data removed]",
      "text/plain": [
       "<Figure size 800x400 with 1 Axes>"
      ]
     },
     "metadata": {},
     "output_type": "display_data"
    },
    {
     "data": {
      "image/png": "[encoded data removed]",
      "text/plain": [
       "<Figure size 800x400 with 1 Axes>"
      ]
     },
     "metadata": {},
     "output_type": "display_data"
    }
   ],
   "source": [
    "cv_results = model_pipe.cv_results_\n",
    "\n",
    "# Extract and clean the scores\n",
    "# RMSE: convert neg_mean_squared_error to positive and take sqrt\n",
    "rmse = np.sqrt(np.abs(cv_results['mean_test_RMSE']))\n",
    "rmse_sd = cv_results['std_test_RMSE']\n",
    "\n",
    "# R^2: directly usable\n",
    "r2 = cv_results['mean_test_R2']\n",
    "r2_sd = cv_results['std_test_R2']\n",
    "\n",
    "# MAE: convert neg to positive\n",
    "mae = np.abs(cv_results['mean_test_MAE'])\n",
    "mae_sd = cv_results['std_test_MAE']\n",
    "\n",
    "# Extract tree depths from param grid\n",
    "depths = [d for d in cv_results['param_regressor__max_depth']]\n",
    "\n",
    "# Build a DataFrame\n",
    "final_model_scores = pd.DataFrame({\n",
    "    'Depth': depths,\n",
    "    'RMSE': rmse,\n",
    "    'RMSE_SD': rmse_sd,\n",
    "    'R2': r2,\n",
    "    'R2_SD': r2_sd,\n",
    "    'MAE': mae,\n",
    "    'MAE_SD': mae_sd\n",
    "})\n",
    "\n",
    "# Optional: Sort by depth to be safe\n",
    "final_model_scores = final_model_scores.sort_values(by='Depth')\n",
    "\n",
    "# Display\n",
    "import matplotlib.pyplot as plt\n",
    "\n",
    "# Plot RMSE\n",
    "plt.figure(figsize=(8, 4))\n",
    "plt.plot(final_model_scores['Depth'], final_model_scores['RMSE'], marker='o')\n",
    "plt.title('RMSE vs. Tree Depth')\n",
    "plt.xlabel('Max Depth')\n",
    "plt.ylabel('RMSE')\n",
    "plt.grid(True)\n",
    "plt.show()\n",
    "\n",
    "# Plot R2\n",
    "plt.figure(figsize=(8, 4))\n",
    "plt.plot(final_model_scores['Depth'], final_model_scores['R2'], marker='o', color='green')\n",
    "plt.title('R² vs. Tree Depth')\n",
    "plt.xlabel('Max Depth')\n",
    "plt.ylabel('R² Score')\n",
    "plt.grid(True)\n",
    "plt.show()\n"
   ]
  },
  {
   "cell_type": "markdown",
   "metadata": {},
   "source": [
    "#12 Which variables appear to be contributing the most (variable importance)"
   ]
  },
  {
   "cell_type": "code",
   "execution_count": 78,
   "metadata": {},
   "outputs": [
    {
     "name": "stdout",
     "output_type": "stream",
     "text": [
      "                       Feature  Importance\n",
      "8              num_voted_users    0.601543\n",
      "13                      budget    0.237083\n",
      "12        num_user_for_reviews    0.039877\n",
      "137           content_rating_R    0.022832\n",
      "7                 actor_1_name    0.017901\n",
      "9    cast_total_facebook_likes    0.017639\n",
      "2                     duration    0.016420\n",
      "14                  title_year    0.014349\n",
      "15      actor_2_facebook_likes    0.009889\n",
      "150                     Comedy    0.008073\n"
     ]
    }
   ],
   "source": [
    "\n",
    "preprocessor = model_pipe.best_estimator_.named_steps['preprocessor']\n",
    "regressor = model_pipe.best_estimator_.named_steps['regressor']\n",
    "\n",
    "# Get feature names after transformation\n",
    "num_features = preprocessor.transformers_[0][2]  # numerical columns\n",
    "\n",
    "# numeric features\n",
    "feature_names = num_features\n",
    "\n",
    "#DataFrame of feature importances\n",
    "varimp = pd.DataFrame({\n",
    "    'Feature': feature_names,\n",
    "    'Importance': regressor.feature_importances_\n",
    "}).sort_values(by='Importance', ascending=False)\n",
    "\n",
    "print(varimp.head(10))"
   ]
  },
  {
   "cell_type": "code",
   "execution_count": 79,
   "metadata": {},
   "outputs": [
    {
     "data": {
      "image/png": "[encoded data removed]",
      "text/plain": [
       "<Figure size 1000x600 with 1 Axes>"
      ]
     },
     "metadata": {},
     "output_type": "display_data"
    }
   ],
   "source": [
    "top_10 = varimp.head(10)\n",
    "\n",
    "plt.figure(figsize=(10, 6))\n",
    "sns.barplot(x='Importance', y='Feature', data=top_10, color='skyblue')\n",
    "plt.title('Top 10 Feature Importances')\n",
    "plt.xlabel('Importance')\n",
    "plt.ylabel('Feature')\n",
    "plt.tight_layout()\n",
    "plt.show()"
   ]
  },
  {
   "cell_type": "markdown",
   "metadata": {},
   "source": [
    "#13 Create a model object using the best model hyperparameter value from the trained regression tree."
   ]
  },
  {
   "cell_type": "code",
   "execution_count": 86,
   "metadata": {},
   "outputs": [
    {
     "data": {
      "text/html": [
       "<style>#sk-container-id-3 {\n",
       "  /* Definition of color scheme common for light and dark mode */\n",
       "  --sklearn-color-text: #000;\n",
       "  --sklearn-color-text-muted: #666;\n",
       "  --sklearn-color-line: gray;\n",
       "  /* Definition of color scheme for unfitted estimators */\n",
       "  --sklearn-color-unfitted-level-0: #fff5e6;\n",
       "  --sklearn-color-unfitted-level-1: #f6e4d2;\n",
       "  --sklearn-color-unfitted-level-2: #ffe0b3;\n",
       "  --sklearn-color-unfitted-level-3: chocolate;\n",
       "  /* Definition of color scheme for fitted estimators */\n",
       "  --sklearn-color-fitted-level-0: #f0f8ff;\n",
       "  --sklearn-color-fitted-level-1: #d4ebff;\n",
       "  --sklearn-color-fitted-level-2: #b3dbfd;\n",
       "  --sklearn-color-fitted-level-3: cornflowerblue;\n",
       "\n",
       "  /* Specific color for light theme */\n",
       "  --sklearn-color-text-on-default-background: var(--sg-text-color, var(--theme-code-foreground, var(--jp-content-font-color1, black)));\n",
       "  --sklearn-color-background: var(--sg-background-color, var(--theme-background, var(--jp-layout-color0, white)));\n",
       "  --sklearn-color-border-box: var(--sg-text-color, var(--theme-code-foreground, var(--jp-content-font-color1, black)));\n",
       "  --sklearn-color-icon: #696969;\n",
       "\n",
       "  @media (prefers-color-scheme: dark) {\n",
       "    /* Redefinition of color scheme for dark theme */\n",
       "    --sklearn-color-text-on-default-background: var(--sg-text-color, var(--theme-code-foreground, var(--jp-content-font-color1, white)));\n",
       "    --sklearn-color-background: var(--sg-background-color, var(--theme-background, var(--jp-layout-color0, #111)));\n",
       "    --sklearn-color-border-box: var(--sg-text-color, var(--theme-code-foreground, var(--jp-content-font-color1, white)));\n",
       "    --sklearn-color-icon: #878787;\n",
       "  }\n",
       "}\n",
       "\n",
       "#sk-container-id-3 {\n",
       "  color: var(--sklearn-color-text);\n",
       "}\n",
       "\n",
       "#sk-container-id-3 pre {\n",
       "  padding: 0;\n",
       "}\n",
       "\n",
       "#sk-container-id-3 input.sk-hidden--visually {\n",
       "  border: 0;\n",
       "  clip: rect(1px 1px 1px 1px);\n",
       "  clip: rect(1px, 1px, 1px, 1px);\n",
       "  height: 1px;\n",
       "  margin: -1px;\n",
       "  overflow: hidden;\n",
       "  padding: 0;\n",
       "  position: absolute;\n",
       "  width: 1px;\n",
       "}\n",
       "\n",
       "#sk-container-id-3 div.sk-dashed-wrapped {\n",
       "  border: 1px dashed var(--sklearn-color-line);\n",
       "  margin: 0 0.4em 0.5em 0.4em;\n",
       "  box-sizing: border-box;\n",
       "  padding-bottom: 0.4em;\n",
       "  background-color: var(--sklearn-color-background);\n",
       "}\n",
       "\n",
       "#sk-container-id-3 div.sk-container {\n",
       "  /* jupyter's `normalize.less` sets `[hidden] { display: none; }`\n",
       "     but bootstrap.min.css set `[hidden] { display: none !important; }`\n",
       "     so we also need the `!important` here to be able to override the\n",
       "     default hidden behavior on the sphinx rendered scikit-learn.org.\n",
       "     See: https://github.com/scikit-learn/scikit-learn/issues/21755 */\n",
       "  display: inline-block !important;\n",
       "  position: relative;\n",
       "}\n",
       "\n",
       "#sk-container-id-3 div.sk-text-repr-fallback {\n",
       "  display: none;\n",
       "}\n",
       "\n",
       "div.sk-parallel-item,\n",
       "div.sk-serial,\n",
       "div.sk-item {\n",
       "  /* draw centered vertical line to link estimators */\n",
       "  background-image: linear-gradient(var(--sklearn-color-text-on-default-background), var(--sklearn-color-text-on-default-background));\n",
       "  background-size: 2px 100%;\n",
       "  background-repeat: no-repeat;\n",
       "  background-position: center center;\n",
       "}\n",
       "\n",
       "/* Parallel-specific style estimator block */\n",
       "\n",
       "#sk-container-id-3 div.sk-parallel-item::after {\n",
       "  content: \"\";\n",
       "  width: 100%;\n",
       "  border-bottom: 2px solid var(--sklearn-color-text-on-default-background);\n",
       "  flex-grow: 1;\n",
       "}\n",
       "\n",
       "#sk-container-id-3 div.sk-parallel {\n",
       "  display: flex;\n",
       "  align-items: stretch;\n",
       "  justify-content: center;\n",
       "  background-color: var(--sklearn-color-background);\n",
       "  position: relative;\n",
       "}\n",
       "\n",
       "#sk-container-id-3 div.sk-parallel-item {\n",
       "  display: flex;\n",
       "  flex-direction: column;\n",
       "}\n",
       "\n",
       "#sk-container-id-3 div.sk-parallel-item:first-child::after {\n",
       "  align-self: flex-end;\n",
       "  width: 50%;\n",
       "}\n",
       "\n",
       "#sk-container-id-3 div.sk-parallel-item:last-child::after {\n",
       "  align-self: flex-start;\n",
       "  width: 50%;\n",
       "}\n",
       "\n",
       "#sk-container-id-3 div.sk-parallel-item:only-child::after {\n",
       "  width: 0;\n",
       "}\n",
       "\n",
       "/* Serial-specific style estimator block */\n",
       "\n",
       "#sk-container-id-3 div.sk-serial {\n",
       "  display: flex;\n",
       "  flex-direction: column;\n",
       "  align-items: center;\n",
       "  background-color: var(--sklearn-color-background);\n",
       "  padding-right: 1em;\n",
       "  padding-left: 1em;\n",
       "}\n",
       "\n",
       "\n",
       "/* Toggleable style: style used for estimator/Pipeline/ColumnTransformer box that is\n",
       "clickable and can be expanded/collapsed.\n",
       "- Pipeline and ColumnTransformer use this feature and define the default style\n",
       "- Estimators will overwrite some part of the style using the `sk-estimator` class\n",
       "*/\n",
       "\n",
       "/* Pipeline and ColumnTransformer style (default) */\n",
       "\n",
       "#sk-container-id-3 div.sk-toggleable {\n",
       "  /* Default theme specific background. It is overwritten whether we have a\n",
       "  specific estimator or a Pipeline/ColumnTransformer */\n",
       "  background-color: var(--sklearn-color-background);\n",
       "}\n",
       "\n",
       "/* Toggleable label */\n",
       "#sk-container-id-3 label.sk-toggleable__label {\n",
       "  cursor: pointer;\n",
       "  display: flex;\n",
       "  width: 100%;\n",
       "  margin-bottom: 0;\n",
       "  padding: 0.5em;\n",
       "  box-sizing: border-box;\n",
       "  text-align: center;\n",
       "  align-items: start;\n",
       "  justify-content: space-between;\n",
       "  gap: 0.5em;\n",
       "}\n",
       "\n",
       "#sk-container-id-3 label.sk-toggleable__label .caption {\n",
       "  font-size: 0.6rem;\n",
       "  font-weight: lighter;\n",
       "  color: var(--sklearn-color-text-muted);\n",
       "}\n",
       "\n",
       "#sk-container-id-3 label.sk-toggleable__label-arrow:before {\n",
       "  /* Arrow on the left of the label */\n",
       "  content: \"▸\";\n",
       "  float: left;\n",
       "  margin-right: 0.25em;\n",
       "  color: var(--sklearn-color-icon);\n",
       "}\n",
       "\n",
       "#sk-container-id-3 label.sk-toggleable__label-arrow:hover:before {\n",
       "  color: var(--sklearn-color-text);\n",
       "}\n",
       "\n",
       "/* Toggleable content - dropdown */\n",
       "\n",
       "#sk-container-id-3 div.sk-toggleable__content {\n",
       "  max-height: 0;\n",
       "  max-width: 0;\n",
       "  overflow: hidden;\n",
       "  text-align: left;\n",
       "  /* unfitted */\n",
       "  background-color: var(--sklearn-color-unfitted-level-0);\n",
       "}\n",
       "\n",
       "#sk-container-id-3 div.sk-toggleable__content.fitted {\n",
       "  /* fitted */\n",
       "  background-color: var(--sklearn-color-fitted-level-0);\n",
       "}\n",
       "\n",
       "#sk-container-id-3 div.sk-toggleable__content pre {\n",
       "  margin: 0.2em;\n",
       "  border-radius: 0.25em;\n",
       "  color: var(--sklearn-color-text);\n",
       "  /* unfitted */\n",
       "  background-color: var(--sklearn-color-unfitted-level-0);\n",
       "}\n",
       "\n",
       "#sk-container-id-3 div.sk-toggleable__content.fitted pre {\n",
       "  /* unfitted */\n",
       "  background-color: var(--sklearn-color-fitted-level-0);\n",
       "}\n",
       "\n",
       "#sk-container-id-3 input.sk-toggleable__control:checked~div.sk-toggleable__content {\n",
       "  /* Expand drop-down */\n",
       "  max-height: 200px;\n",
       "  max-width: 100%;\n",
       "  overflow: auto;\n",
       "}\n",
       "\n",
       "#sk-container-id-3 input.sk-toggleable__control:checked~label.sk-toggleable__label-arrow:before {\n",
       "  content: \"▾\";\n",
       "}\n",
       "\n",
       "/* Pipeline/ColumnTransformer-specific style */\n",
       "\n",
       "#sk-container-id-3 div.sk-label input.sk-toggleable__control:checked~label.sk-toggleable__label {\n",
       "  color: var(--sklearn-color-text);\n",
       "  background-color: var(--sklearn-color-unfitted-level-2);\n",
       "}\n",
       "\n",
       "#sk-container-id-3 div.sk-label.fitted input.sk-toggleable__control:checked~label.sk-toggleable__label {\n",
       "  background-color: var(--sklearn-color-fitted-level-2);\n",
       "}\n",
       "\n",
       "/* Estimator-specific style */\n",
       "\n",
       "/* Colorize estimator box */\n",
       "#sk-container-id-3 div.sk-estimator input.sk-toggleable__control:checked~label.sk-toggleable__label {\n",
       "  /* unfitted */\n",
       "  background-color: var(--sklearn-color-unfitted-level-2);\n",
       "}\n",
       "\n",
       "#sk-container-id-3 div.sk-estimator.fitted input.sk-toggleable__control:checked~label.sk-toggleable__label {\n",
       "  /* fitted */\n",
       "  background-color: var(--sklearn-color-fitted-level-2);\n",
       "}\n",
       "\n",
       "#sk-container-id-3 div.sk-label label.sk-toggleable__label,\n",
       "#sk-container-id-3 div.sk-label label {\n",
       "  /* The background is the default theme color */\n",
       "  color: var(--sklearn-color-text-on-default-background);\n",
       "}\n",
       "\n",
       "/* On hover, darken the color of the background */\n",
       "#sk-container-id-3 div.sk-label:hover label.sk-toggleable__label {\n",
       "  color: var(--sklearn-color-text);\n",
       "  background-color: var(--sklearn-color-unfitted-level-2);\n",
       "}\n",
       "\n",
       "/* Label box, darken color on hover, fitted */\n",
       "#sk-container-id-3 div.sk-label.fitted:hover label.sk-toggleable__label.fitted {\n",
       "  color: var(--sklearn-color-text);\n",
       "  background-color: var(--sklearn-color-fitted-level-2);\n",
       "}\n",
       "\n",
       "/* Estimator label */\n",
       "\n",
       "#sk-container-id-3 div.sk-label label {\n",
       "  font-family: monospace;\n",
       "  font-weight: bold;\n",
       "  display: inline-block;\n",
       "  line-height: 1.2em;\n",
       "}\n",
       "\n",
       "#sk-container-id-3 div.sk-label-container {\n",
       "  text-align: center;\n",
       "}\n",
       "\n",
       "/* Estimator-specific */\n",
       "#sk-container-id-3 div.sk-estimator {\n",
       "  font-family: monospace;\n",
       "  border: 1px dotted var(--sklearn-color-border-box);\n",
       "  border-radius: 0.25em;\n",
       "  box-sizing: border-box;\n",
       "  margin-bottom: 0.5em;\n",
       "  /* unfitted */\n",
       "  background-color: var(--sklearn-color-unfitted-level-0);\n",
       "}\n",
       "\n",
       "#sk-container-id-3 div.sk-estimator.fitted {\n",
       "  /* fitted */\n",
       "  background-color: var(--sklearn-color-fitted-level-0);\n",
       "}\n",
       "\n",
       "/* on hover */\n",
       "#sk-container-id-3 div.sk-estimator:hover {\n",
       "  /* unfitted */\n",
       "  background-color: var(--sklearn-color-unfitted-level-2);\n",
       "}\n",
       "\n",
       "#sk-container-id-3 div.sk-estimator.fitted:hover {\n",
       "  /* fitted */\n",
       "  background-color: var(--sklearn-color-fitted-level-2);\n",
       "}\n",
       "\n",
       "/* Specification for estimator info (e.g. \"i\" and \"?\") */\n",
       "\n",
       "/* Common style for \"i\" and \"?\" */\n",
       "\n",
       ".sk-estimator-doc-link,\n",
       "a:link.sk-estimator-doc-link,\n",
       "a:visited.sk-estimator-doc-link {\n",
       "  float: right;\n",
       "  font-size: smaller;\n",
       "  line-height: 1em;\n",
       "  font-family: monospace;\n",
       "  background-color: var(--sklearn-color-background);\n",
       "  border-radius: 1em;\n",
       "  height: 1em;\n",
       "  width: 1em;\n",
       "  text-decoration: none !important;\n",
       "  margin-left: 0.5em;\n",
       "  text-align: center;\n",
       "  /* unfitted */\n",
       "  border: var(--sklearn-color-unfitted-level-1) 1pt solid;\n",
       "  color: var(--sklearn-color-unfitted-level-1);\n",
       "}\n",
       "\n",
       ".sk-estimator-doc-link.fitted,\n",
       "a:link.sk-estimator-doc-link.fitted,\n",
       "a:visited.sk-estimator-doc-link.fitted {\n",
       "  /* fitted */\n",
       "  border: var(--sklearn-color-fitted-level-1) 1pt solid;\n",
       "  color: var(--sklearn-color-fitted-level-1);\n",
       "}\n",
       "\n",
       "/* On hover */\n",
       "div.sk-estimator:hover .sk-estimator-doc-link:hover,\n",
       ".sk-estimator-doc-link:hover,\n",
       "div.sk-label-container:hover .sk-estimator-doc-link:hover,\n",
       ".sk-estimator-doc-link:hover {\n",
       "  /* unfitted */\n",
       "  background-color: var(--sklearn-color-unfitted-level-3);\n",
       "  color: var(--sklearn-color-background);\n",
       "  text-decoration: none;\n",
       "}\n",
       "\n",
       "div.sk-estimator.fitted:hover .sk-estimator-doc-link.fitted:hover,\n",
       ".sk-estimator-doc-link.fitted:hover,\n",
       "div.sk-label-container:hover .sk-estimator-doc-link.fitted:hover,\n",
       ".sk-estimator-doc-link.fitted:hover {\n",
       "  /* fitted */\n",
       "  background-color: var(--sklearn-color-fitted-level-3);\n",
       "  color: var(--sklearn-color-background);\n",
       "  text-decoration: none;\n",
       "}\n",
       "\n",
       "/* Span, style for the box shown on hovering the info icon */\n",
       ".sk-estimator-doc-link span {\n",
       "  display: none;\n",
       "  z-index: 9999;\n",
       "  position: relative;\n",
       "  font-weight: normal;\n",
       "  right: .2ex;\n",
       "  padding: .5ex;\n",
       "  margin: .5ex;\n",
       "  width: min-content;\n",
       "  min-width: 20ex;\n",
       "  max-width: 50ex;\n",
       "  color: var(--sklearn-color-text);\n",
       "  box-shadow: 2pt 2pt 4pt #999;\n",
       "  /* unfitted */\n",
       "  background: var(--sklearn-color-unfitted-level-0);\n",
       "  border: .5pt solid var(--sklearn-color-unfitted-level-3);\n",
       "}\n",
       "\n",
       ".sk-estimator-doc-link.fitted span {\n",
       "  /* fitted */\n",
       "  background: var(--sklearn-color-fitted-level-0);\n",
       "  border: var(--sklearn-color-fitted-level-3);\n",
       "}\n",
       "\n",
       ".sk-estimator-doc-link:hover span {\n",
       "  display: block;\n",
       "}\n",
       "\n",
       "/* \"?\"-specific style due to the `<a>` HTML tag */\n",
       "\n",
       "#sk-container-id-3 a.estimator_doc_link {\n",
       "  float: right;\n",
       "  font-size: 1rem;\n",
       "  line-height: 1em;\n",
       "  font-family: monospace;\n",
       "  background-color: var(--sklearn-color-background);\n",
       "  border-radius: 1rem;\n",
       "  height: 1rem;\n",
       "  width: 1rem;\n",
       "  text-decoration: none;\n",
       "  /* unfitted */\n",
       "  color: var(--sklearn-color-unfitted-level-1);\n",
       "  border: var(--sklearn-color-unfitted-level-1) 1pt solid;\n",
       "}\n",
       "\n",
       "#sk-container-id-3 a.estimator_doc_link.fitted {\n",
       "  /* fitted */\n",
       "  border: var(--sklearn-color-fitted-level-1) 1pt solid;\n",
       "  color: var(--sklearn-color-fitted-level-1);\n",
       "}\n",
       "\n",
       "/* On hover */\n",
       "#sk-container-id-3 a.estimator_doc_link:hover {\n",
       "  /* unfitted */\n",
       "  background-color: var(--sklearn-color-unfitted-level-3);\n",
       "  color: var(--sklearn-color-background);\n",
       "  text-decoration: none;\n",
       "}\n",
       "\n",
       "#sk-container-id-3 a.estimator_doc_link.fitted:hover {\n",
       "  /* fitted */\n",
       "  background-color: var(--sklearn-color-fitted-level-3);\n",
       "}\n",
       "</style><div id=\"sk-container-id-3\" class=\"sk-top-container\"><div class=\"sk-text-repr-fallback\"><pre>DecisionTreeRegressor(max_depth=5, random_state=42)</pre><b>In a Jupyter environment, please rerun this cell to show the HTML representation or trust the notebook. <br />On GitHub, the HTML representation is unable to render, please try loading this page with nbviewer.org.</b></div><div class=\"sk-container\" hidden><div class=\"sk-item\"><div class=\"sk-estimator fitted sk-toggleable\"><input class=\"sk-toggleable__control sk-hidden--visually\" id=\"sk-estimator-id-10\" type=\"checkbox\" checked><label for=\"sk-estimator-id-10\" class=\"sk-toggleable__label fitted sk-toggleable__label-arrow\"><div><div>DecisionTreeRegressor</div></div><div><a class=\"sk-estimator-doc-link fitted\" rel=\"noreferrer\" target=\"_blank\" href=\"https://scikit-learn.org/1.6/modules/generated/sklearn.tree.DecisionTreeRegressor.html\">?<span>Documentation for DecisionTreeRegressor</span></a><span class=\"sk-estimator-doc-link fitted\">i<span>Fitted</span></span></div></label><div class=\"sk-toggleable__content fitted\"><pre>DecisionTreeRegressor(max_depth=5, random_state=42)</pre></div> </div></div></div></div>"
      ],
      "text/plain": [
       "DecisionTreeRegressor(max_depth=5, random_state=42)"
      ]
     },
     "execution_count": 86,
     "metadata": {},
     "output_type": "execute_result"
    }
   ],
   "source": [
    "best_tree_model = DecisionTreeRegressor(max_depth=5, random_state=42)\n",
    "best_tree_model.fit(X_train, y_train)\n",
    "\n"
   ]
  },
  {
   "cell_type": "markdown",
   "metadata": {},
   "source": [
    "#14 Using the best model predict on the tune data and print out the results."
   ]
  },
  {
   "cell_type": "code",
   "execution_count": 84,
   "metadata": {},
   "outputs": [
    {
     "name": "stdout",
     "output_type": "stream",
     "text": [
      "Predictions on the tune set:\n",
      "[1.23512581e+08 9.72144093e+07 5.30601520e+07 1.43911960e+07\n",
      " 7.48779426e+07 1.43911960e+07 5.77522370e+07 1.43911960e+07\n",
      " 1.43911960e+07 2.33448549e+08 2.80805256e+07 8.07906477e+07\n",
      " 1.43911960e+07 1.43911960e+07 1.19214605e+08 3.07837870e+07\n",
      " 2.47403489e+07 1.43911960e+07 1.43911960e+07 5.77522370e+07\n",
      " 5.77522370e+07 8.07906477e+07 1.43911960e+07 4.06954536e+07\n",
      " 5.77522370e+07 1.43911960e+07 4.06954536e+07 7.48779426e+07\n",
      " 2.47403489e+07 2.47403489e+07 8.07906477e+07 4.06954536e+07\n",
      " 1.43911960e+07 1.43911960e+07 4.06954536e+07 7.48779426e+07\n",
      " 1.43911960e+07 1.43911960e+07 1.43911960e+07 3.07837870e+07\n",
      " 1.43911960e+07 1.19214605e+08 1.43911960e+07 3.07837870e+07\n",
      " 1.43911960e+07 1.43911960e+07 2.80805256e+07 5.30601520e+07\n",
      " 2.27407596e+07 1.23512581e+08 1.52878137e+08 1.43911960e+07\n",
      " 2.33448549e+08 7.48779426e+07 1.19214605e+08 5.77522370e+07\n",
      " 1.43911960e+07 2.47403489e+07 5.30601520e+07 1.43911960e+07\n",
      " 1.43911960e+07 2.80805256e+07 5.77522370e+07 8.07906477e+07\n",
      " 1.43911960e+07 2.47403489e+07 1.43911960e+07 5.30601520e+07\n",
      " 2.80805256e+07 1.23512581e+08 1.43911960e+07 2.80805256e+07\n",
      " 1.43911960e+07 7.48779426e+07 5.30601520e+07 3.07837870e+07\n",
      " 7.48779426e+07 1.43911960e+07 1.19214605e+08 2.80805256e+07\n",
      " 1.19214605e+08 1.43911960e+07 5.30601520e+07 1.43911960e+07\n",
      " 4.06954536e+07 1.43911960e+07 1.43911960e+07 2.47403489e+07\n",
      " 4.06954536e+07 5.95041472e+07 1.43911960e+07 2.80805256e+07\n",
      " 5.22095042e+07 5.95041472e+07 3.07837870e+07 4.06954536e+07\n",
      " 3.07837870e+07 2.27407596e+07 1.43911960e+07 8.07906477e+07\n",
      " 3.07837870e+07 3.07837870e+07 1.43911960e+07 1.43911960e+07\n",
      " 3.07837870e+07 1.43911960e+07 5.77522370e+07 5.77522370e+07\n",
      " 1.43911960e+07 1.43911960e+07 2.27407596e+07 4.06954536e+07\n",
      " 5.95041472e+07 5.77522370e+07 5.77522370e+07 1.43911960e+07\n",
      " 5.30601520e+07 1.43911960e+07 5.30601520e+07 2.27407596e+07\n",
      " 1.43911960e+07 1.43911960e+07 2.60484196e+08 1.43911960e+07\n",
      " 4.06954536e+07 2.33448549e+08 1.43911960e+07 1.43911960e+07\n",
      " 1.43911960e+07 1.43911960e+07 2.47403489e+07 1.43911960e+07\n",
      " 1.43911960e+07 5.95041472e+07 1.23512581e+08 1.43911960e+07\n",
      " 5.30601520e+07 7.29160603e+07 1.43911960e+07 1.43911960e+07\n",
      " 1.43911960e+07 1.43911960e+07 5.30601520e+07 1.43911960e+07\n",
      " 1.43911960e+07 1.43911960e+07 3.07837870e+07 1.43911960e+07\n",
      " 7.48779426e+07 1.19214605e+08 1.43911960e+07 3.07837870e+07\n",
      " 2.27407596e+07 2.33448549e+08 5.77522370e+07 1.43911960e+07\n",
      " 3.07837870e+07 1.43911960e+07 7.48779426e+07 1.43911960e+07\n",
      " 1.43911960e+07 4.06954536e+07 8.07906477e+07 5.22095042e+07\n",
      " 5.95041472e+07 2.80805256e+07 1.43911960e+07 5.77522370e+07\n",
      " 1.43911960e+07 1.43911960e+07 8.07906477e+07 2.47403489e+07\n",
      " 1.43911960e+07 2.27407596e+07 1.43911960e+07 5.30601520e+07\n",
      " 1.43911960e+07 1.43911960e+07 1.43911960e+07 2.60484196e+08\n",
      " 2.47403489e+07 1.43911960e+07 1.43911960e+07 1.43911960e+07\n",
      " 2.47403489e+07 1.43911960e+07 2.47403489e+07 1.43911960e+07\n",
      " 1.43911960e+07 3.07837870e+07 1.43911960e+07 1.23512581e+08\n",
      " 2.27407596e+07 2.27407596e+07 1.43911960e+07 1.43911960e+07\n",
      " 2.47403489e+07 1.43911960e+07 1.19214605e+08 1.19214605e+08\n",
      " 3.07837870e+07 2.47403489e+07 5.30601520e+07 2.60484196e+08\n",
      " 3.07837870e+07 1.43911960e+07 5.77522370e+07 2.27407596e+07\n",
      " 1.43911960e+07 1.43911960e+07 2.27407596e+07 2.33448549e+08\n",
      " 1.43911960e+07 5.95041472e+07 4.06954536e+07 1.43911960e+07\n",
      " 1.43911960e+07 1.43911960e+07 2.47403489e+07 1.43911960e+07\n",
      " 2.80805256e+07 1.19214605e+08 8.07906477e+07 1.43911960e+07\n",
      " 1.43911960e+07 2.47403489e+07 5.77522370e+07 1.19214605e+08\n",
      " 1.43911960e+07 7.48779426e+07 1.43911960e+07 1.43911960e+07\n",
      " 1.43911960e+07 1.43911960e+07 1.23512581e+08 2.80805256e+07\n",
      " 2.47403489e+07 1.43911960e+07 2.47403489e+07 1.43911960e+07\n",
      " 9.72144093e+07 7.48779426e+07 2.47403489e+07 3.84225214e+08\n",
      " 1.43911960e+07 2.27407596e+07 1.43911960e+07 1.43911960e+07\n",
      " 4.06954536e+07 2.27407596e+07 4.06954536e+07 1.43911960e+07\n",
      " 5.22095042e+07 2.80805256e+07 5.30601520e+07 3.07837870e+07\n",
      " 3.07837870e+07 1.43911960e+07 8.07906477e+07 1.43911960e+07\n",
      " 5.30601520e+07 4.06954536e+07 5.95041472e+07 2.47403489e+07\n",
      " 2.80805256e+07 1.43911960e+07 1.43911960e+07 1.43911960e+07\n",
      " 1.23512581e+08 4.06954536e+07 1.43911960e+07 5.77522370e+07\n",
      " 1.43911960e+07 2.27407596e+07 3.07837870e+07 1.43911960e+07\n",
      " 5.30601520e+07 1.52878137e+08 1.43911960e+07 8.07906477e+07\n",
      " 1.43911960e+07 1.43911960e+07 1.43911960e+07 5.95041472e+07\n",
      " 5.95041472e+07 4.06954536e+07 2.47403489e+07 2.80805256e+07\n",
      " 2.33448549e+08 1.43911960e+07 2.47403489e+07 5.30601520e+07\n",
      " 2.80805256e+07 1.43911960e+07 2.27407596e+07 2.27407596e+07\n",
      " 1.43911960e+07 2.80805256e+07 2.27407596e+07 1.43911960e+07\n",
      " 3.07837870e+07 2.33448549e+08 5.77522370e+07 1.43911960e+07\n",
      " 3.07837870e+07 1.43911960e+07 3.07837870e+07 1.43911960e+07\n",
      " 2.27407596e+07 1.43911960e+07 3.07837870e+07 2.47403489e+07\n",
      " 2.47403489e+07 7.48779426e+07 1.43911960e+07 2.27407596e+07\n",
      " 2.80805256e+07 3.07837870e+07 1.43911960e+07 1.19214605e+08\n",
      " 8.07906477e+07 2.80805256e+07 2.47403489e+07 1.43911960e+07\n",
      " 4.06954536e+07 3.07837870e+07 1.43911960e+07 2.33448549e+08\n",
      " 5.95041472e+07 4.06954536e+07 1.43911960e+07 1.43911960e+07\n",
      " 1.23512581e+08 3.07837870e+07 7.48779426e+07 1.19214605e+08\n",
      " 1.43911960e+07 5.30601520e+07 5.22095042e+07 2.33448549e+08\n",
      " 7.48779426e+07 3.07837870e+07 1.43911960e+07 3.07837870e+07\n",
      " 2.47403489e+07 1.43911960e+07 1.43911960e+07 1.43911960e+07\n",
      " 4.06954536e+07 2.47403489e+07 3.07837870e+07 1.43911960e+07\n",
      " 1.32240697e+08 1.43911960e+07 1.43911960e+07 2.33448549e+08\n",
      " 8.07906477e+07 4.06954536e+07 2.33448549e+08 2.47403489e+07\n",
      " 2.47403489e+07 2.27407596e+07 3.07837870e+07 1.43911960e+07\n",
      " 3.32649353e+08 1.43911960e+07 1.43911960e+07 2.47403489e+07\n",
      " 1.43911960e+07 4.06954536e+07 2.36754674e+08 5.30601520e+07\n",
      " 4.06954536e+07 1.19214605e+08 1.43911960e+07 1.43911960e+07\n",
      " 1.43911960e+07 5.30601520e+07 1.43911960e+07 3.07837870e+07\n",
      " 3.07837870e+07 1.43911960e+07 3.07837870e+07 3.07837870e+07\n",
      " 1.43911960e+07 1.43911960e+07 4.06954536e+07 1.43911960e+07\n",
      " 2.33448549e+08 9.72144093e+07 1.43911960e+07 5.30601520e+07\n",
      " 1.23512581e+08 2.33448549e+08 1.43911960e+07 5.30601520e+07\n",
      " 5.30601520e+07 1.43911960e+07 1.43911960e+07 1.43911960e+07\n",
      " 1.43911960e+07 5.77522370e+07 5.95041472e+07 4.06954536e+07\n",
      " 2.80805256e+07 1.43911960e+07 2.27407596e+07 1.43911960e+07\n",
      " 5.77522370e+07 2.47403489e+07 2.47403489e+07 1.43911960e+07\n",
      " 1.43911960e+07 1.43911960e+07 2.27407596e+07 5.22095042e+07\n",
      " 2.47403489e+07 1.43911960e+07 8.07906477e+07 1.43911960e+07\n",
      " 8.07906477e+07 1.43911960e+07 5.22095042e+07 1.43911960e+07\n",
      " 1.43911960e+07 1.43911960e+07 3.07837870e+07 1.43911960e+07\n",
      " 4.06954536e+07 1.43911960e+07 7.48779426e+07 4.06954536e+07\n",
      " 1.43911960e+07 1.43911960e+07 5.22095042e+07 1.19214605e+08\n",
      " 2.33448549e+08 3.07837870e+07 5.30601520e+07 7.48779426e+07\n",
      " 4.06954536e+07 3.07837870e+07 3.07837870e+07 5.30601520e+07\n",
      " 1.43911960e+07 4.06954536e+07 3.07837870e+07 3.07837870e+07\n",
      " 1.43911960e+07 8.07906477e+07 1.43911960e+07 7.48779426e+07\n",
      " 1.43911960e+07 5.30601520e+07 1.43911960e+07 1.43911960e+07\n",
      " 3.07837870e+07 1.43911960e+07 1.43911960e+07 4.06954536e+07\n",
      " 8.07906477e+07 5.30601520e+07 8.07906477e+07 1.43911960e+07\n",
      " 1.43911960e+07 2.47403489e+07 1.43911960e+07 5.30601520e+07\n",
      " 1.43911960e+07 3.07837870e+07 3.07837870e+07 1.43911960e+07\n",
      " 1.43911960e+07 2.36754674e+08 1.43911960e+07 5.30601520e+07\n",
      " 3.07837870e+07 1.43911960e+07 2.33448549e+08 4.06954536e+07\n",
      " 4.06954536e+07 1.43911960e+07 1.43911960e+07 2.33448549e+08\n",
      " 2.47403489e+07 2.80805256e+07 1.43911960e+07 2.47403489e+07\n",
      " 1.43911960e+07 1.43911960e+07 1.43911960e+07 1.43911960e+07\n",
      " 2.33448549e+08 2.47403489e+07 1.43911960e+07 1.52878137e+08\n",
      " 1.19214605e+08 7.48779426e+07 2.47403489e+07 3.07837870e+07\n",
      " 2.27407596e+07 2.80805256e+07 2.47403489e+07 1.19214605e+08]\n"
     ]
    }
   ],
   "source": [
    "y_pred_tune = best_tree_model.predict(X_tune)\n",
    "print(\"Predictions on the tune set:\")\n",
    "print(y_pred_tune)"
   ]
  },
  {
   "cell_type": "markdown",
   "metadata": {},
   "source": [
    "#15 How does the model perform on the tune data as compared to the training data?"
   ]
  },
  {
   "cell_type": "code",
   "execution_count": 89,
   "metadata": {},
   "outputs": [
    {
     "name": "stdout",
     "output_type": "stream",
     "text": [
      "Training Performance:\n",
      "RMSE: 33397288.42, MAE: 21896230.53, R²: 0.6931\n",
      "\n",
      "Tune Performance:\n",
      "RMSE: 45074144.40, MAE: 26601795.91, R²: 0.5923\n"
     ]
    }
   ],
   "source": [
    "# 1. Predict on training data\n",
    "y_pred_train = best_tree_model.predict(X_train)\n",
    "\n",
    "# 2. Predict on tune data (you've already done this earlier)\n",
    "y_pred_tune = best_tree_model.predict(X_tune)\n",
    "\n",
    "# 3. Evaluate performance on training data\n",
    "train_rmse = np.sqrt(mean_squared_error(y_train, y_pred_train))\n",
    "train_mae = mean_absolute_error(y_train, y_pred_train)\n",
    "train_r2 = r2_score(y_train, y_pred_train)\n",
    "\n",
    "# 4. Evaluate performance on tune data\n",
    "tune_rmse = np.sqrt(mean_squared_error(y_tune, y_pred_tune))\n",
    "tune_mae = mean_absolute_error(y_tune, y_pred_tune)\n",
    "tune_r2 = r2_score(y_tune, y_pred_tune)\n",
    "\n",
    "# 5. Print results\n",
    "print(\"Training Performance:\")\n",
    "print(f\"RMSE: {train_rmse:.2f}, MAE: {train_mae:.2f}, R²: {train_r2:.4f}\")\n",
    "\n",
    "print(\"\\nTune Performance:\")\n",
    "print(f\"RMSE: {tune_rmse:.2f}, MAE: {tune_mae:.2f}, R²: {tune_r2:.4f}\")\n",
    "\n",
    "#The model performs better on the training set (R² = 0.6931) than on the tune set (R² = 0.5923), indicating moderate overfitting and reduced \n",
    "#predictive accuracy on unseen data."
   ]
  },
  {
   "cell_type": "markdown",
   "metadata": {},
   "source": [
    "#16 What five movies are predicted to have the lowest gross revenue from the tune set?"
   ]
  },
  {
   "cell_type": "code",
   "execution_count": 93,
   "metadata": {},
   "outputs": [
    {
     "name": "stdout",
     "output_type": "stream",
     "text": [
      "Five movies predicted to have the lowest gross revenue:\n",
      "      Predicted_Gross       Movie Title\n",
      "2570     1.439120e+07      How to Deal \n",
      "3537     1.439120e+07            Twixt \n",
      "4763     1.439120e+07  Insomnia Manica \n",
      "2706     1.439120e+07   A Mighty Heart \n",
      "3731     1.439120e+07         Addicted \n"
     ]
    }
   ],
   "source": [
    "#Create DataFrame of predictions with same index as X_tune\n",
    "predicted_df = pd.DataFrame({'Predicted_Gross': y_pred_tune}, index=X_tune.index)\n",
    "\n",
    "#oin with titles from original movie_metadata\n",
    "tune_titles = movie_metadata.loc[X_tune.index, 'movie_title']\n",
    "\n",
    "# 4. Combine predictions with titles\n",
    "tune_with_titles = predicted_df.join(tune_titles)\n",
    "\n",
    "# 5. Rename for clarity\n",
    "tune_with_titles = tune_with_titles.rename(columns={'movie_title': 'Movie Title'})\n",
    "\n",
    "# 6. Sort and select 5 lowest predictions\n",
    "lowest_predicted = tune_with_titles.sort_values(by='Predicted_Gross').head(5)\n",
    "\n",
    "# 7. Display\n",
    "print(\"Five movies predicted to have the lowest gross revenue:\")\n",
    "print(lowest_predicted)"
   ]
  },
  {
   "cell_type": "markdown",
   "metadata": {},
   "source": [
    "#17 As a data scientist you are always looking to improve your results. What are some ideas you have to improve the model? Have you ask...WHAT IF?!"
   ]
  },
  {
   "cell_type": "code",
   "execution_count": null,
   "metadata": {},
   "outputs": [],
   "source": [
    "#1. What if I could numerically encode actor and director names based on their historical success or prestige—like average box office \n",
    "#performance or IMDb ratings? This would capture their influence on revenue without overfitting to specific names\n",
    "\n",
    "#2. What if I created new features such as “star power” (aggregated social media following of lead actors) or genre popularity trends over time?\n",
    "#3. What if I used ensemble models like Random Forest or Gradient Boosting, which handle nonlinearity and interactions better than a single decision tree?\n",
    "#4.  What if I used actor/director Facebook likes as proxies for popularity instead of raw names?\n",
    "#5. What if we added a normalized or log-transformed version of budget to reduce skew and highlight marginal effects?"
   ]
  },
  {
   "cell_type": "markdown",
   "metadata": {},
   "source": [
    "#18 Experiment using your what if ideas (two is fine). Did the model improve? If so, how much? If not, what did you learn? (You don't need to include all the \"what if\" code just speak to what you tried and what you learned)."
   ]
  },
  {
   "cell_type": "code",
   "execution_count": null,
   "metadata": {},
   "outputs": [],
   "source": [
    "#what if #4:\n",
    "#I replaced high-cardinality name columns like actor_1_name and director_name with their corresponding Facebook like counts (e.g., actor_1_facebook_likes, \n",
    "#director_facebook_likes) to reduce overfitting and more meaningfully capture star power. These numeric proxies represent public interest and influence, which likely\n",
    "# impact a movie's gross revenue. After retraining the model, I noticed a slight improvement in R² and reduced model complexity, suggesting that using popularity \n",
    "#metrics is a more efficient and generalizable way to encode fame-related features.\n",
    "\n",
    "#what if #5- This helped address the right-skewed distribution, similar to how we transformed gross earlier. It made the distribution more symmetric \n",
    "#and compressed extreme values, allowing the model to better capture marginal effects between low- and high-budget films. \n",
    "#This improved interpretability and helped the model learn more balanced patterns across different budget ranges, ultimately enhancing the stability of prediction values.\n"
   ]
  },
  {
   "cell_type": "markdown",
   "metadata": {},
   "source": [
    "#19 Use the best model to predict on the test data and print out the evaluation results."
   ]
  },
  {
   "cell_type": "code",
   "execution_count": 96,
   "metadata": {},
   "outputs": [
    {
     "name": "stdout",
     "output_type": "stream",
     "text": [
      "Test Set Performance:\n",
      "RMSE: 50041545.10\n",
      "MAE: 27358761.15\n",
      "R²: 0.5285\n",
      "Training Performance:\n",
      "RMSE: 33397288.42, MAE: 21896230.53, R²: 0.6931\n",
      "\n",
      "Tune Performance:\n",
      "RMSE: 45074144.40, MAE: 26601795.91, R²: 0.5923\n"
     ]
    }
   ],
   "source": [
    "y_pred_test = best_tree_model.predict(X_test)\n",
    "\n",
    "# 2. Evaluate performance on test data\n",
    "test_rmse = np.sqrt(mean_squared_error(y_test, y_pred_test))\n",
    "test_mae = mean_absolute_error(y_test, y_pred_test)\n",
    "test_r2 = r2_score(y_test, y_pred_test)\n",
    "\n",
    "# 3. Print results\n",
    "print(\"Test Set Performance:\")\n",
    "print(f\"RMSE: {test_rmse:.2f}\")\n",
    "print(f\"MAE: {test_mae:.2f}\")\n",
    "print(f\"R²: {test_r2:.4f}\")\n",
    "\n",
    "print(\"Training Performance:\")\n",
    "print(f\"RMSE: {train_rmse:.2f}, MAE: {train_mae:.2f}, R²: {train_r2:.4f}\")\n",
    "\n",
    "print(\"\\nTune Performance:\")\n",
    "print(f\"RMSE: {tune_rmse:.2f}, MAE: {tune_mae:.2f}, R²: {tune_r2:.4f}\")"
   ]
  },
  {
   "cell_type": "markdown",
   "metadata": {},
   "source": [
    "#20 Does the model perform well on the test data when compared to the training and tune data? Why or why not?"
   ]
  },
  {
   "cell_type": "code",
   "execution_count": null,
   "metadata": {},
   "outputs": [],
   "source": [
    "#The model performs reasonably well on the test data, but not as well as on the training and tune sets. \n",
    "#The test R² is 0.5285, which is lower than the training (0.6931) and tune (0.5923) scores, and both RMSE and MAE are higher. \n",
    "#This suggests the model generalizes fairly, but there is some overfitting, as it performs best on the data it was trained on and slightly worse on unseen data."
   ]
  },
  {
   "cell_type": "markdown",
   "metadata": {},
   "source": [
    "#21 Where are the errors occurring in your predictions? Are they systematic or random? In either case, what are the implications of this?"
   ]
  },
  {
   "cell_type": "code",
   "execution_count": null,
   "metadata": {},
   "outputs": [],
   "source": [
    "#There is strong evidence that the model’s prediction errors are systematic, not random.\n",
    "#First, the test RMSE (50,041,545) is much higher than the MAE (27,358,761). This large gap suggests that a few very large errors are skewing the \n",
    "#results — most likely from movies with extremely high or low gross revenues.\n",
    "\n",
    "#Additionally, the gross variable was log-transformed during preprocessing to correct for a heavily right-skewed distribution. \n",
    "#This indicates the presence of blockbuster movies with unusually high revenue, which the model may still struggle to predict accurately even after transformation.\n",
    "\n",
    "#Finally, the model's R² on the test set is 0.5285, meaning it explains just over half of the variance in gross revenue. The remaining unexplained variance likely \n",
    "#includes these extreme cases, confirming that the errors are not random, but more pronounced in edge cases."
   ]
  },
  {
   "cell_type": "markdown",
   "metadata": {},
   "source": [
    "#22 Summarize what you learned along the way and make recommendations on how this could be used moving forward, being careful not to over promise."
   ]
  },
  {
   "cell_type": "code",
   "execution_count": null,
   "metadata": {},
   "outputs": [],
   "source": [
    "#Throughout this project, I learned that preprocessing is critical in decision tree regression. Since all variables must be numeric, it’s not just about \n",
    "#cleaning the data, but also about thoughtfully transforming and encoding features to retain their meaning without introducing bias or leakage. \n",
    "#I realized that some important variables, like names or categories, cannot simply be dropped — they need to be contextually transformed, such as \n",
    "#replacing actor/director names with their Facebook like counts to preserve their influence on movie revenue.\n",
    "\n",
    "#I also learned that hyperparameter tuning and scoring metric selection are not just technical choices — they depend heavily on the data scientist’s \n",
    "#understanding of the problem and what kind of prediction performance (e.g., minimizing large errors or capturing variance) is most important for the use case.\n",
    "\n",
    "#A key mistake I made was including a log-transformed version of the target variable (log_gross) in my feature set, which led to data leakage and artificially \n",
    "#high performance. Once I removed it from the predictors, the model's results became more realistic, highlighting the importance of carefully defining X and y.\n",
    "\n",
    "#Moving forward, this kind of model could be used to forecast box office revenue and support decision-making around budget planning, marketing strategy, or risk \n",
    "#evaluation. However, it's important not to overpromise — while the model captures general patterns, it still struggles with extreme cases like blockbusters or flops. \n",
    "#More advanced techniques, additional contextual features, or ensemble models could further improve accuracy and reliability."
   ]
  }
 ],
 "metadata": {
  "kernelspec": {
   "display_name": "FMLF23",
   "language": "python",
   "name": "python3"
  },
  "language_info": {
   "codemirror_mode": {
    "name": "ipython",
    "version": 3
   },
   "file_extension": ".py",
   "mimetype": "text/x-python",
   "name": "python",
   "nbconvert_exporter": "python",
   "pygments_lexer": "ipython3",
   "version": "3.12.4"
  }
 },
 "nbformat": 4,
 "nbformat_minor": 2
}
