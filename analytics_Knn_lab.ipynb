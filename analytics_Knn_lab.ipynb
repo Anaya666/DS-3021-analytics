{
  "nbformat": 4,
  "nbformat_minor": 0,
  "metadata": {
    "colab": {
      "provenance": [],
      "authorship_tag": "ABX9TyNegNeZIWO6bqrJ7CpzzEMQ",
      "include_colab_link": true
    },
    "kernelspec": {
      "name": "python3",
      "display_name": "Python 3"
    },
    "language_info": {
      "name": "python"
    }
  },
  "cells": [
    {
      "cell_type": "markdown",
      "metadata": {
        "id": "view-in-github",
        "colab_type": "text"
      },
      "source": [
        "<a href=\"https://colab.research.google.com/github/Anaya666/DS-3021-analytics/blob/main/analytics_Knn_lab.ipynb\" target=\"_parent\"><img src=\"https://colab.research.google.com/assets/colab-badge.svg\" alt=\"Open In Colab\"/></a>"
      ]
    },
    {
      "cell_type": "markdown",
      "source": [
        "NOTE:\n",
        "MY VS CODE AND WORKSPACES WASNT WORKING SO I HAD TO USE GOOGLE COLAB. I HAVE DONE THIS LAB TO SHOW THAT I UNDERSTOOD THE MATERIAL FROM CLASS BUT WILL ASK FOR PERMISSION TO REDO THE LAB WITHOUT PENALTY ONCE MY SYSTEM IS DEBUGGED. ALL THE STEPS AND ANSWERS ARE HERE BUT THE DATASET I WORKED ON DIDNT FULLY LOAD AND MY RESULTS ARE THUS HEAVILY BIASED"
      ],
      "metadata": {
        "id": "CCMBlvirKe94"
      }
    },
    {
      "cell_type": "markdown",
      "source": [
        "Q1:\n",
        "Research question:\n",
        "Target variable:\n",
        "working to develop a model that can predict students' graduate rates (grad_100_value)\n",
        "target variable:\n",
        "grad_100_value"
      ],
      "metadata": {
        "id": "W-ow_MKRyWwC"
      }
    },
    {
      "cell_type": "code",
      "execution_count": 1,
      "metadata": {
        "colab": {
          "base_uri": "https://localhost:8080/"
        },
        "id": "Yw_yjjVIuGzC",
        "outputId": "e3ed0abc-2320-489c-a5cc-b3e1c4a53463"
      },
      "outputs": [
        {
          "output_type": "stream",
          "name": "stdout",
          "text": [
            "Index(['index', 'unitid', 'year', 'gender', 'race', 'cohort', 'grad_cohort',\n",
            "       'grad_100', 'grad_150', 'grad_100_rate', 'grad_150_rate'],\n",
            "      dtype='object')\n",
            "0    16.4\n",
            "1     NaN\n",
            "2     NaN\n",
            "3     NaN\n",
            "4     NaN\n",
            "Name: grad_100_rate, dtype: float64\n"
          ]
        }
      ],
      "source": [
        "import pandas as pd\n",
        "import numpy as np\n",
        "\n",
        "# Load dataset\n",
        "college_data = pd.read_csv(\"/content/cc_institution_grads.csv\")\n",
        "print(college_data.columns)\n",
        "print(college_data[\"grad_100_rate\"].head())"
      ]
    },
    {
      "cell_type": "code",
      "source": [
        "raw_data = pd.read_csv(\"/content/cc_institution_grads.csv\")\n",
        "print(raw_data.columns)\n"
      ],
      "metadata": {
        "colab": {
          "base_uri": "https://localhost:8080/"
        },
        "id": "yzyD6KhNEbWu",
        "outputId": "577777b1-b5b6-428d-f311-98b72bc38231"
      },
      "execution_count": 24,
      "outputs": [
        {
          "output_type": "stream",
          "name": "stdout",
          "text": [
            "Index(['index', 'unitid', 'year', 'gender', 'race', 'cohort', 'grad_cohort',\n",
            "       'grad_100', 'grad_150', 'grad_100_rate', 'grad_150_rate'],\n",
            "      dtype='object')\n"
          ]
        }
      ]
    },
    {
      "cell_type": "code",
      "source": [
        "# Convert graduation rate into categories because graduation rate is a continous variable and I need to convert it into a\n",
        "#categorical variable\n",
        "def categorize_grad_rate(value):\n",
        "    if value < 33:\n",
        "        return 0  # Low graduation rate\n",
        "    elif 33 <= value < 66:\n",
        "        return 1  # Medium graduation rate\n",
        "    else:\n",
        "        return 2  # High graduation rate\n",
        "\n",
        "# Use \"grad_100_rate\" instead of \"grad_100_value\"\n",
        "college_data[\"grad_category\"] = college_data[\"grad_100_rate\"].apply(categorize_grad_rate)\n",
        "college_data[\"grad_category\"] = college_data[\"grad_category\"].astype(\"category\")\n",
        "\n",
        "# Drop the original continuous variable since we have converted it\n",
        "college_data.drop(\"grad_100_rate\", axis=1, inplace=True)\n"
      ],
      "metadata": {
        "id": "xf4T-JJAxz0_"
      },
      "execution_count": 2,
      "outputs": []
    },
    {
      "cell_type": "code",
      "source": [
        "print(college_data[\"grad_category\"].value_counts())  # Verify category distribution\n",
        "print(college_data.head())  # Ensure new column is created"
      ],
      "metadata": {
        "colab": {
          "base_uri": "https://localhost:8080/"
        },
        "id": "RzZ47oStz8nK",
        "outputId": "43229c3a-df9c-4f38-8f44-ce7f690bda9a"
      },
      "execution_count": 3,
      "outputs": [
        {
          "output_type": "stream",
          "name": "stdout",
          "text": [
            "grad_category\n",
            "2    1014674\n",
            "0     197425\n",
            "1      90003\n",
            "Name: count, dtype: int64\n",
            "   index  unitid  year gender race  cohort  grad_cohort  grad_100  grad_150  \\\n",
            "0      0  100760  2011      B    X  2y all        446.0      73.0     105.0   \n",
            "1      1  100760  2011      M    X  2y all        185.0       NaN      40.0   \n",
            "2      2  100760  2011      F    X  2y all        261.0       NaN      65.0   \n",
            "3      3  100760  2011      B    W  2y all        348.0       NaN      86.0   \n",
            "4      4  100760  2011      M    W  2y all        162.0       NaN      35.0   \n",
            "\n",
            "   grad_150_rate grad_category  \n",
            "0           23.5             0  \n",
            "1           21.6             2  \n",
            "2           24.9             2  \n",
            "3           24.7             2  \n",
            "4           21.6             2  \n"
          ]
        }
      ]
    },
    {
      "cell_type": "code",
      "source": [
        "import seaborn as sns\n",
        "import matplotlib.pyplot as plt\n",
        "\n",
        "sns.displot(\n",
        "    data=college_data.isna().melt(value_name=\"missing\"),\n",
        "    y=\"variable\",\n",
        "    hue=\"missing\",\n",
        "    multiple=\"fill\",\n",
        "    aspect=1.25)"
      ],
      "metadata": {
        "colab": {
          "base_uri": "https://localhost:8080/",
          "height": 524
        },
        "id": "zLVe2wy70RZR",
        "outputId": "177084fc-f1b7-4d17-cf69-2917b934bc82"
      },
      "execution_count": 4,
      "outputs": [
        {
          "output_type": "execute_result",
          "data": {
            "text/plain": [
              "<seaborn.axisgrid.FacetGrid at 0x7aa97b452210>"
            ]
          },
          "metadata": {},
          "execution_count": 4
        },
        {
          "output_type": "display_data",
          "data": {
            "text/plain": [
              "<Figure size 709.875x500 with 1 Axes>"
            ],
            "image/png": "[encoded data removed]"
          },
          "metadata": {}
        }
      ]
    },
    {
      "cell_type": "code",
      "source": [
        "# Identify numeric and categorical columns properly\n",
        "num_cols = college_data.select_dtypes(include=[\"number\"]).columns  # Numeric columns only\n",
        "cat_cols = college_data.select_dtypes(exclude=[\"number\"]).columns  # Categorical columns\n",
        "\n",
        "# Ensure all numeric columns are truly numeric (force conversion)\n",
        "college_data[num_cols] = college_data[num_cols].apply(pd.to_numeric, errors=\"coerce\")\n",
        "\n",
        "# Fill missing values for numeric columns with median\n",
        "college_data[num_cols] = college_data[num_cols].fillna(college_data[num_cols].median())\n",
        "\n",
        "# Fill missing values for categorical columns with mode\n",
        "for col in cat_cols:\n",
        "    college_data[col] = college_data[col].astype(str)  # Ensure categorical values are strings\n",
        "    college_data[col] = college_data[col].fillna(college_data[col].mode()[0])\n",
        "\n",
        "print(\" Missing values filled successfully!\")\n"
      ],
      "metadata": {
        "colab": {
          "base_uri": "https://localhost:8080/"
        },
        "id": "PESqYzRe3IH1",
        "outputId": "9fdf0db0-87e2-4be3-8e72-3182b44f5926"
      },
      "execution_count": 5,
      "outputs": [
        {
          "output_type": "stream",
          "name": "stdout",
          "text": [
            " Missing values filled successfully!\n"
          ]
        }
      ]
    },
    {
      "cell_type": "code",
      "source": [
        "#Build a kNN Model Using 3 Nearest Neighbors\n",
        "#Now, we clean the dataset (handling missing values and feature selection), normalize numeric features, and train a kNN model.\n",
        "from sklearn.preprocessing import MinMaxScaler\n",
        "from sklearn.model_selection import train_test_split\n",
        "from sklearn.neighbors import KNeighborsClassifier\n",
        "\n",
        "# Normalize numeric features\n",
        "scaler = MinMaxScaler()\n",
        "numeric_cols = college_data.select_dtypes(include=[\"float64\", \"int64\"]).columns\n",
        "college_data[numeric_cols] = scaler.fit_transform(college_data[numeric_cols])\n",
        "\n",
        "# One-hot encode categorical variables\n",
        "college_data = pd.get_dummies(college_data, drop_first=True)\n",
        "# Convert one-hot encoded grad_category back to a single categorical column\n",
        "college_data[\"grad_category\"] = (college_data[\"grad_category_1\"] * 1) + (college_data[\"grad_category_2\"] * 2)\n",
        "\n",
        "# Drop the one-hot encoded columns\n",
        "college_data.drop([\"grad_category_1\", \"grad_category_2\"], axis=1, inplace=True)\n",
        "\n",
        "# Convert to categorical\n",
        "college_data[\"grad_category\"] = college_data[\"grad_category\"].astype(\"category\")\n",
        "\n",
        "# Check if grad_category exists now\n",
        "print(college_data.columns)\n",
        "print(college_data[\"grad_category\"].value_counts())\n"
      ],
      "metadata": {
        "colab": {
          "base_uri": "https://localhost:8080/"
        },
        "id": "2XlzVB6t21Yi",
        "outputId": "c195efb2-86d0-400c-bab6-b54570f82ace"
      },
      "execution_count": 10,
      "outputs": [
        {
          "output_type": "stream",
          "name": "stdout",
          "text": [
            "Index(['index', 'unitid', 'year', 'grad_cohort', 'grad_100', 'grad_150',\n",
            "       'grad_150_rate', 'gender_F', 'gender_M', 'race_Ai', 'race_B', 'race_H',\n",
            "       'race_W', 'race_X', 'cohort_4y bach', 'cohort_4y other',\n",
            "       'grad_category'],\n",
            "      dtype='object')\n",
            "grad_category\n",
            "2    1014674\n",
            "0     197425\n",
            "1      90003\n",
            "Name: count, dtype: int64\n"
          ]
        }
      ]
    },
    {
      "cell_type": "markdown",
      "source": [
        "\n",
        "Q3- Create a dataframe that includes the test target values, test predicted values,\n",
        "and test probabilities of the positive class\n"
      ],
      "metadata": {
        "id": "7Pebi6ru4tlj"
      }
    },
    {
      "cell_type": "code",
      "source": [
        "\n",
        "# Load and define the dataset (ensure `college_data` is preloaded)\n",
        "top_features = [\"unitid\", \"grad_cohort\", \"grad_150_rate\", \"year\", \"grad_100\"]\n",
        "\n",
        "# Select only the relevant features\n",
        "X = college_data[top_features]\n",
        "y = college_data[\"grad_category\"]  # Ensure 'grad_category' exists as the target variable\n",
        "\n",
        "# Train-test split using reduced features\n",
        "X_train, X_temp, y_train, y_temp = train_test_split(\n",
        "    X, y, test_size=0.4, stratify=y, random_state=42\n",
        ")\n",
        "X_test, X_val, y_test, y_val = train_test_split(\n",
        "    X_temp, y_temp, test_size=0.5, stratify=y_temp, random_state=42\n",
        ")\n",
        "\n",
        "# Train kNN model with k=3 using reduced features\n",
        "knn = KNeighborsClassifier(n_neighbors=3, algorithm=\"kd_tree\")  # Faster search\n",
        "knn.fit(X_train, y_train)\n",
        "\n",
        "# Get predicted values and probabilities\n",
        "y_pred = knn.predict(X_test)\n",
        "y_prob = knn.predict_proba(X_test)[:, 1]  # Probabilities for class 1 (Medium Graduation Rate)\n",
        "\n",
        "# Create a DataFrame with test actual values, predicted values, and probabilities\n",
        "test_results = pd.DataFrame({\n",
        "    \"actual_class\": y_test.values,\n",
        "    \"pred_class\": y_pred,\n",
        "    \"pred_prob_high_grad\": y_prob  # Probability of high graduation rate\n",
        "})\n",
        "\n",
        "print(test_results.head())"
      ],
      "metadata": {
        "colab": {
          "base_uri": "https://localhost:8080/"
        },
        "id": "em06K5IT_Koz",
        "outputId": "21542d57-9e67-4ee6-c4b0-097437434417"
      },
      "execution_count": 11,
      "outputs": [
        {
          "output_type": "stream",
          "name": "stdout",
          "text": [
            "  actual_class  pred_class  pred_prob_high_grad\n",
            "0            2           2                  0.0\n",
            "1            2           2                  0.0\n",
            "2            0           0                  0.0\n",
            "3            0           0                  0.0\n",
            "4            2           2                  0.0\n"
          ]
        }
      ]
    },
    {
      "cell_type": "code",
      "source": [
        "#what this means is:\n",
        "#The model is correctly predicting most graduation rate categories, as the actual and predicted values match.\n",
        "#However, the probability of a high graduation rate is always 0.0, meaning the model is not confident in identifying\n",
        "#high graduation rate cases.\n"
      ],
      "metadata": {
        "id": "jDuSu_whAmzL"
      },
      "execution_count": null,
      "outputs": []
    },
    {
      "cell_type": "markdown",
      "source": [
        "Q4-\n",
        " No code question: If you adjusted the k hyperparameter what do you think would happen to the threshold function? Would the confusion look the same at the same threshold levels or not? Why or why not?\n",
        "\n",
        "Increasing k smoothens decision boundaries, making the model less sensitive to noise.\n",
        "\n",
        "Decreasing k makes the model more flexible, but also increases variance.\n",
        "\n",
        "Impact on the confusion matrix: A higher k could make classification more stable but may also lead to more misclassifications between similar classes.\n",
        "If I test different values of k, the confusion matrix would look different, especially for boundary cases where the probability distribution is uncertain."
      ],
      "metadata": {
        "id": "AWSAngEv4aH0"
      }
    },
    {
      "cell_type": "markdown",
      "source": [
        "Q5- Evaluate the results using the confusion matrix. Then \"walk\" through your question, summarize what\n",
        "concerns or positive elements do you have about the model as it relates to your question?\n"
      ],
      "metadata": {
        "id": "icsMC4ov5ffl"
      }
    },
    {
      "cell_type": "code",
      "source": [
        "from sklearn.metrics import ConfusionMatrixDisplay\n",
        "import matplotlib.pyplot as plt\n",
        "\n",
        "# Plot the confusion matrix\n",
        "ConfusionMatrixDisplay.from_estimator(knn, X_test, y_test, cmap=\"Blues\")\n",
        "plt.show()\n"
      ],
      "metadata": {
        "colab": {
          "base_uri": "https://localhost:8080/",
          "height": 449
        },
        "id": "EkD35XlH_ZCf",
        "outputId": "4e67c7b2-2d29-452c-be8f-29ab58b57083"
      },
      "execution_count": 12,
      "outputs": [
        {
          "output_type": "display_data",
          "data": {
            "text/plain": [
              "<Figure size 640x480 with 2 Axes>"
            ],
            "image/png": "[encoded data removed]"
          },
          "metadata": {}
        }
      ]
    },
    {
      "cell_type": "code",
      "source": [
        "from sklearn.metrics import classification_report\n",
        "\n",
        "print(classification_report(y_test, y_pred))"
      ],
      "metadata": {
        "colab": {
          "base_uri": "https://localhost:8080/"
        },
        "id": "1zXiC1hf_h5S",
        "outputId": "a97783c9-d771-41db-868d-dec4bb9f8fa7"
      },
      "execution_count": 13,
      "outputs": [
        {
          "output_type": "stream",
          "name": "stdout",
          "text": [
            "              precision    recall  f1-score   support\n",
            "\n",
            "           0       0.64      0.61      0.62     39485\n",
            "           1       0.60      0.51      0.55     18000\n",
            "           2       0.92      0.94      0.93    202935\n",
            "\n",
            "    accuracy                           0.86    260420\n",
            "   macro avg       0.72      0.69      0.70    260420\n",
            "weighted avg       0.85      0.86      0.86    260420\n",
            "\n"
          ]
        }
      ]
    },
    {
      "cell_type": "markdown",
      "source": [
        "Analysis from results in Q5:\n",
        "Confusion matrix:\n",
        "The confusion matrix shows that the model performs well in predicting high graduation rate (Class 2) schools, with 190,131 correct predictions. However, it struggles with medium graduation rate (Class 1) schools, often misclassifying them as either low (Class 0) or high (Class 2) graduation rate. The model appears biased toward predicting high graduation rates, suggesting a need for better class balance or tuning to improve accuracy for low and medium graduation rate schools.\n",
        "\n",
        "The classification report shows that the model predicts high graduation rate (Class 2) schools very well, with high precision (92%) and recall (94%). However, it struggles with medium (Class 1) and low (Class 0) graduation rate schools, as their recall is much lower (51% and 61%), meaning the model often misclassifies them. Importantly, the overall accuracy of the model is 86% compared with the 92% accuracy for class 2, reinforcing the fact that the model is biased. Additionally, for class 2 there is a high f1 score which means that the model is both precise and correctly identifying positive cases."
      ],
      "metadata": {
        "id": "n70AUPvrBVOX"
      }
    },
    {
      "cell_type": "markdown",
      "source": [
        "Q6:\n",
        "6. Create two functions: One that cleans the data & splits into training|test and one that\n",
        "allows you to train and test the model with different k and threshold values, then use them to\n",
        "optimize your model (test your model with several k and threshold combinations). Try not to use variable names\n",
        "in the functions, but if you need to that's fine. (If you can't get the k function and threshold function to work in one\n",
        "function just run them separately.)\n",
        "\n"
      ],
      "metadata": {
        "id": "HDg0j0oxCvZC"
      }
    },
    {
      "cell_type": "code",
      "source": [
        "from sklearn.preprocessing import MinMaxScaler\n",
        "from sklearn.model_selection import train_test_split\n",
        "\n",
        "def clean_and_split_data(data, target, top_features):\n",
        "    \"\"\"Cleans the dataset, selects top features, normalizes, and splits into train/test/val.\"\"\"\n",
        "\n",
        "    # Select top features and target variable\n",
        "    X = data[top_features]\n",
        "    y = data[target]\n",
        "\n",
        "    # Normalize numeric features\n",
        "    scaler = MinMaxScaler()\n",
        "    X = pd.DataFrame(scaler.fit_transform(X), columns=top_features)\n",
        "\n",
        "    # Train-test split (60-20-20)\n",
        "    X_train, X_temp, y_train, y_temp = train_test_split(X, y, test_size=0.4, stratify=y, random_state=42)\n",
        "    X_test, X_val, y_test, y_val = train_test_split(X_temp, y_temp, test_size=0.5, stratify=y_temp, random_state=42)\n",
        "\n",
        "    return X_train, X_test, X_val, y_train, y_test, y_val\n"
      ],
      "metadata": {
        "id": "uxyFYcjaCzHs"
      },
      "execution_count": 16,
      "outputs": []
    },
    {
      "cell_type": "code",
      "source": [
        "from sklearn.neighbors import KNeighborsClassifier\n",
        "from sklearn.metrics import accuracy_score, confusion_matrix\n",
        "\n",
        "def train_and_optimize_knn(X_train, y_train, X_test, y_test, k_values=[3, 5, 7], thresholds=[0.5]):\n",
        "    \"\"\"Trains kNN with different k values and classification thresholds, evaluates performance.\"\"\"\n",
        "\n",
        "    for k in k_values:\n",
        "        print(f\"\\nTraining kNN with k={k}...\")\n",
        "\n",
        "        # Train kNN model\n",
        "        knn = KNeighborsClassifier(n_neighbors=k, algorithm=\"kd_tree\")\n",
        "        knn.fit(X_train, y_train)\n",
        "\n",
        "        # Predict probabilities\n",
        "        y_prob = knn.predict_proba(X_test)[:, 1]  # Probability of class 1\n",
        "\n",
        "        for threshold in thresholds:\n",
        "            # Convert probabilities to class predictions\n",
        "            y_pred = [1 if prob > threshold else 0 for prob in y_prob]\n",
        "\n",
        "            # Calculate accuracy\n",
        "            accuracy = accuracy_score(y_test, y_pred)\n",
        "            print(f\"  Threshold={threshold:.2f} → Accuracy: {accuracy:.4f}\")\n",
        "\n",
        "            # Display confusion matrix\n",
        "            cm = confusion_matrix(y_test, y_pred)\n",
        "            print(f\"  Confusion Matrix:\\n{cm}\")\n"
      ],
      "metadata": {
        "id": "SVwfjkCnC8br"
      },
      "execution_count": 18,
      "outputs": []
    },
    {
      "cell_type": "code",
      "source": [
        "# Define top 5 features (as determined earlier)\n",
        "top_features = [\"unitid\", \"grad_cohort\", \"grad_150_rate\", \"year\", \"grad_100\"]\n",
        "target_variable = \"grad_category\"\n",
        "\n",
        "# Clean and split data\n",
        "X_train, X_test, X_val, y_train, y_test, y_val = clean_and_split_data(college_data, target_variable, top_features)\n",
        "\n",
        "# Train kNN and test different k and threshold values\n",
        "train_and_optimize_knn(X_train, y_train, X_test, y_test, k_values=[3, 5, 7, 9], thresholds=[0.4, 0.5, 0.6])\n"
      ],
      "metadata": {
        "colab": {
          "base_uri": "https://localhost:8080/"
        },
        "id": "haSMQ_YEDA_6",
        "outputId": "e1fa50e7-69e6-4059-8f46-ee4def57314d"
      },
      "execution_count": 19,
      "outputs": [
        {
          "output_type": "stream",
          "name": "stdout",
          "text": [
            "\n",
            "Training kNN with k=3...\n",
            "  Threshold=0.40 → Accuracy: 0.1752\n",
            "  Confusion Matrix:\n",
            "[[ 36465   3020      0]\n",
            " [  8833   9167      0]\n",
            " [199881   3054      0]]\n",
            "  Threshold=0.50 → Accuracy: 0.1752\n",
            "  Confusion Matrix:\n",
            "[[ 36465   3020      0]\n",
            " [  8833   9167      0]\n",
            " [199881   3054      0]]\n",
            "  Threshold=0.60 → Accuracy: 0.1752\n",
            "  Confusion Matrix:\n",
            "[[ 36465   3020      0]\n",
            " [  8833   9167      0]\n",
            " [199881   3054      0]]\n",
            "\n",
            "Training kNN with k=5...\n",
            "  Threshold=0.40 → Accuracy: 0.1747\n",
            "  Confusion Matrix:\n",
            "[[ 36907   2578      0]\n",
            " [  9420   8580      0]\n",
            " [200476   2459      0]]\n",
            "  Threshold=0.50 → Accuracy: 0.1747\n",
            "  Confusion Matrix:\n",
            "[[ 36907   2578      0]\n",
            " [  9420   8580      0]\n",
            " [200476   2459      0]]\n",
            "  Threshold=0.60 → Accuracy: 0.1693\n",
            "  Confusion Matrix:\n",
            "[[ 38498    987      0]\n",
            " [ 12412   5588      0]\n",
            " [202232    703      0]]\n",
            "\n",
            "Training kNN with k=7...\n",
            "  Threshold=0.40 → Accuracy: 0.1772\n",
            "  Confusion Matrix:\n",
            "[[ 35276   4209      0]\n",
            " [  7138  10862      0]\n",
            " [198017   4918      0]]\n",
            "  Threshold=0.50 → Accuracy: 0.1741\n",
            "  Confusion Matrix:\n",
            "[[ 37136   2349      0]\n",
            " [  9798   8202      0]\n",
            " [200862   2073      0]]\n",
            "  Threshold=0.60 → Accuracy: 0.1699\n",
            "  Confusion Matrix:\n",
            "[[ 38339   1146      0]\n",
            " [ 12083   5917      0]\n",
            " [202154    781      0]]\n",
            "\n",
            "Training kNN with k=9...\n",
            "  Threshold=0.40 → Accuracy: 0.1763\n",
            "  Confusion Matrix:\n",
            "[[ 35893   3592      0]\n",
            " [  7973  10027      0]\n",
            " [198970   3965      0]]\n",
            "  Threshold=0.50 → Accuracy: 0.1736\n",
            "  Confusion Matrix:\n",
            "[[ 37345   2140      0]\n",
            " [ 10130   7870      0]\n",
            " [201049   1886      0]]\n",
            "  Threshold=0.60 → Accuracy: 0.1703\n",
            "  Confusion Matrix:\n",
            "[[ 38316   1169      0]\n",
            " [ 11970   6030      0]\n",
            " [202100    835      0]]\n"
          ]
        }
      ]
    },
    {
      "cell_type": "markdown",
      "source": [
        "Q7-  How well does the model perform? Did the interaction of the adjusted thresholds and k values help the model? Why or why not?\n"
      ],
      "metadata": {
        "id": "-VVoVrmuEDOO"
      }
    },
    {
      "cell_type": "markdown",
      "source": [
        "Analysis:\n",
        "The model is not performing well → Accuracy is very low (~17%), meaning the kNN classifier is struggling to make correct predictions.\n",
        "All predictions are stuck in one class → Looking at the confusion matrices, the last column (Class 2) has all zeros, meaning the model never predicts  high graduation rates (Class 2).\n",
        "Changing k doesn't help much → Whether k=3, 5, 7, or 9, accuracy remains nearly the same, meaning increasing the number of neighbors isn’t fixing the\n",
        "issue.\n",
        "Changing the threshold also doesn’t help → Adjusting the probability threshold (0.40, 0.50, 0.60) does not change the accuracy much, showing the model isn't distinguishing between different graduation rate categories.\n",
        "he model is likely biased → It predicts mostly low (Class 0) and medium (Class 1) graduation rates, but struggles to classify high graduation rate\n",
        "(Class 2) schools, suggesting imbalanced data or poor feature selection.\n"
      ],
      "metadata": {
        "id": "BbCCTfINEIwj"
      }
    },
    {
      "cell_type": "markdown",
      "source": [
        "Q8- Choose another variable as the target in the dataset and create another kNN model using the two functions you created in\n",
        "step 7.\n"
      ],
      "metadata": {
        "id": "WgZl7hOOIefW"
      }
    },
    {
      "cell_type": "markdown",
      "source": [
        "An alternative target variable to explore is grad_150_rate, which represents the percentage of students graduating within six years instead of four."
      ],
      "metadata": {
        "id": "CllstrB0IhWL"
      }
    },
    {
      "cell_type": "code",
      "source": [
        "# Convert grad_150_rate into categorical labels\n",
        "def categorize_grad_rate(value):\n",
        "    if value < 40:\n",
        "        return 0  # Low Graduation Rate\n",
        "    elif 40 <= value < 70:\n",
        "        return 1  # Medium Graduation Rate\n",
        "    else:\n",
        "        return 2  # High Graduation Rate\n",
        "\n",
        "# Apply the function to create a classification target\n",
        "college_data[\"grad_150_category\"] = college_data[\"grad_150_rate\"].apply(categorize_grad_rate).astype(\"category\")\n",
        "\n",
        "# Print confirmation\n",
        "print(college_data[[\"grad_150_rate\", \"grad_150_category\"]])"
      ],
      "metadata": {
        "colab": {
          "base_uri": "https://localhost:8080/"
        },
        "id": "3TQ30GVJD9Pz",
        "outputId": "b71e8802-cd83-4ed2-8a4b-275d6565367a"
      },
      "execution_count": 25,
      "outputs": [
        {
          "output_type": "stream",
          "name": "stdout",
          "text": [
            "         grad_150_rate grad_150_category\n",
            "0                0.235                 0\n",
            "1                0.216                 0\n",
            "2                0.249                 0\n",
            "3                0.247                 0\n",
            "4                0.216                 0\n",
            "...                ...               ...\n",
            "1302097          0.357                 0\n",
            "1302098          0.357                 0\n",
            "1302099          0.357                 0\n",
            "1302100          0.357                 0\n",
            "1302101          0.357                 0\n",
            "\n",
            "[1302102 rows x 2 columns]\n"
          ]
        }
      ]
    },
    {
      "cell_type": "code",
      "source": [
        "# Define the new target variable\n",
        "target_variable = \"grad_150_category\"\n",
        "\n",
        "# Keep the same top 5 features as before\n",
        "top_features = [\"unitid\", \"grad_cohort\", \"grad_150_rate\", \"year\", \"grad_100\"]\n",
        "\n",
        "# Apply the function\n",
        "X_train, X_test, X_val, y_train, y_test, y_val = clean_and_split_data(college_data, target_variable, top_features)\n",
        "\n",
        "# Confirm shape of train/test data\n",
        "print(f\"Train shape: {X_train.shape}, Test shape: {X_test.shape}\")\n"
      ],
      "metadata": {
        "colab": {
          "base_uri": "https://localhost:8080/"
        },
        "id": "p1EVccxKJRu1",
        "outputId": "1685b529-0cfa-42ca-f3d0-979e1ff016e8"
      },
      "execution_count": 26,
      "outputs": [
        {
          "output_type": "stream",
          "name": "stdout",
          "text": [
            "Train shape: (781261, 5), Test shape: (260420, 5)\n"
          ]
        }
      ]
    },
    {
      "cell_type": "code",
      "source": [
        "from sklearn.neighbors import KNeighborsClassifier\n",
        "from sklearn.metrics import accuracy_score, confusion_matrix\n",
        "\n",
        "def train_and_optimize_knn(X_train, y_train, X_test, y_test, k_values=[3, 5, 7, 9], thresholds=[0.4, 0.5, 0.6]):\n",
        "    \"\"\"Trains kNN with different k values and evaluates performance.\"\"\"\n",
        "\n",
        "    for k in k_values:\n",
        "        print(f\"\\nTraining kNN with k={k}...\")\n",
        "\n",
        "        # Train kNN model\n",
        "        knn = KNeighborsClassifier(n_neighbors=k, algorithm=\"kd_tree\")\n",
        "        knn.fit(X_train, y_train)\n",
        "\n",
        "        # Predict class probabilities (only if multiple classes exist)\n",
        "        if len(knn.classes_) > 1:\n",
        "            y_prob = knn.predict_proba(X_test)[:, 1]  # Probability of class 1\n",
        "        else:\n",
        "            y_prob = np.zeros(len(X_test))  # If only one class exists, assign 0 probability\n",
        "\n",
        "        for threshold in thresholds:\n",
        "            # Convert probabilities to class predictions\n",
        "            y_pred = [1 if prob > threshold else 0 for prob in y_prob]\n",
        "\n",
        "            # Calculate accuracy\n",
        "            accuracy = accuracy_score(y_test, y_pred)\n",
        "            print(f\"  Threshold={threshold:.2f} → Accuracy: {accuracy:.4f}\")\n",
        "\n",
        "            # Display confusion matrix\n",
        "            cm = confusion_matrix(y_test, y_pred)\n",
        "            print(f\"  Confusion Matrix:\\n{cm}\")\n",
        "\n",
        "# Run the function again\n",
        "train_and_optimize_knn(X_train, y_train, X_test, y_test, k_values=[3, 5, 7, 9], thresholds=[0.4, 0.5, 0.6])\n"
      ],
      "metadata": {
        "colab": {
          "base_uri": "https://localhost:8080/"
        },
        "id": "z-35qaQ_JpJ-",
        "outputId": "5bcaac46-084b-4bbd-d198-f8e62e0b9e05"
      },
      "execution_count": 29,
      "outputs": [
        {
          "output_type": "stream",
          "name": "stdout",
          "text": [
            "\n",
            "Training kNN with k=3...\n",
            "  Threshold=0.40 → Accuracy: 1.0000\n",
            "  Confusion Matrix:\n",
            "[[260420]]\n"
          ]
        },
        {
          "output_type": "stream",
          "name": "stderr",
          "text": [
            "/usr/local/lib/python3.11/dist-packages/sklearn/metrics/_classification.py:407: UserWarning: A single label was found in 'y_true' and 'y_pred'. For the confusion matrix to have the correct shape, use the 'labels' parameter to pass all known labels.\n",
            "  warnings.warn(\n"
          ]
        },
        {
          "output_type": "stream",
          "name": "stdout",
          "text": [
            "  Threshold=0.50 → Accuracy: 1.0000\n",
            "  Confusion Matrix:\n",
            "[[260420]]\n"
          ]
        },
        {
          "output_type": "stream",
          "name": "stderr",
          "text": [
            "/usr/local/lib/python3.11/dist-packages/sklearn/metrics/_classification.py:407: UserWarning: A single label was found in 'y_true' and 'y_pred'. For the confusion matrix to have the correct shape, use the 'labels' parameter to pass all known labels.\n",
            "  warnings.warn(\n"
          ]
        },
        {
          "output_type": "stream",
          "name": "stdout",
          "text": [
            "  Threshold=0.60 → Accuracy: 1.0000\n",
            "  Confusion Matrix:\n",
            "[[260420]]\n",
            "\n",
            "Training kNN with k=5...\n"
          ]
        },
        {
          "output_type": "stream",
          "name": "stderr",
          "text": [
            "/usr/local/lib/python3.11/dist-packages/sklearn/metrics/_classification.py:407: UserWarning: A single label was found in 'y_true' and 'y_pred'. For the confusion matrix to have the correct shape, use the 'labels' parameter to pass all known labels.\n",
            "  warnings.warn(\n"
          ]
        },
        {
          "output_type": "stream",
          "name": "stdout",
          "text": [
            "  Threshold=0.40 → Accuracy: 1.0000\n",
            "  Confusion Matrix:\n",
            "[[260420]]\n"
          ]
        },
        {
          "output_type": "stream",
          "name": "stderr",
          "text": [
            "/usr/local/lib/python3.11/dist-packages/sklearn/metrics/_classification.py:407: UserWarning: A single label was found in 'y_true' and 'y_pred'. For the confusion matrix to have the correct shape, use the 'labels' parameter to pass all known labels.\n",
            "  warnings.warn(\n"
          ]
        },
        {
          "output_type": "stream",
          "name": "stdout",
          "text": [
            "  Threshold=0.50 → Accuracy: 1.0000\n",
            "  Confusion Matrix:\n",
            "[[260420]]\n"
          ]
        },
        {
          "output_type": "stream",
          "name": "stderr",
          "text": [
            "/usr/local/lib/python3.11/dist-packages/sklearn/metrics/_classification.py:407: UserWarning: A single label was found in 'y_true' and 'y_pred'. For the confusion matrix to have the correct shape, use the 'labels' parameter to pass all known labels.\n",
            "  warnings.warn(\n"
          ]
        },
        {
          "output_type": "stream",
          "name": "stdout",
          "text": [
            "  Threshold=0.60 → Accuracy: 1.0000\n",
            "  Confusion Matrix:\n",
            "[[260420]]\n",
            "\n",
            "Training kNN with k=7...\n"
          ]
        },
        {
          "output_type": "stream",
          "name": "stderr",
          "text": [
            "/usr/local/lib/python3.11/dist-packages/sklearn/metrics/_classification.py:407: UserWarning: A single label was found in 'y_true' and 'y_pred'. For the confusion matrix to have the correct shape, use the 'labels' parameter to pass all known labels.\n",
            "  warnings.warn(\n"
          ]
        },
        {
          "output_type": "stream",
          "name": "stdout",
          "text": [
            "  Threshold=0.40 → Accuracy: 1.0000\n",
            "  Confusion Matrix:\n",
            "[[260420]]\n",
            "  Threshold=0.50 → Accuracy: 1.0000\n"
          ]
        },
        {
          "output_type": "stream",
          "name": "stderr",
          "text": [
            "/usr/local/lib/python3.11/dist-packages/sklearn/metrics/_classification.py:407: UserWarning: A single label was found in 'y_true' and 'y_pred'. For the confusion matrix to have the correct shape, use the 'labels' parameter to pass all known labels.\n",
            "  warnings.warn(\n",
            "/usr/local/lib/python3.11/dist-packages/sklearn/metrics/_classification.py:407: UserWarning: A single label was found in 'y_true' and 'y_pred'. For the confusion matrix to have the correct shape, use the 'labels' parameter to pass all known labels.\n",
            "  warnings.warn(\n"
          ]
        },
        {
          "output_type": "stream",
          "name": "stdout",
          "text": [
            "  Confusion Matrix:\n",
            "[[260420]]\n",
            "  Threshold=0.60 → Accuracy: 1.0000\n",
            "  Confusion Matrix:\n",
            "[[260420]]\n",
            "\n",
            "Training kNN with k=9...\n"
          ]
        },
        {
          "output_type": "stream",
          "name": "stderr",
          "text": [
            "/usr/local/lib/python3.11/dist-packages/sklearn/metrics/_classification.py:407: UserWarning: A single label was found in 'y_true' and 'y_pred'. For the confusion matrix to have the correct shape, use the 'labels' parameter to pass all known labels.\n",
            "  warnings.warn(\n"
          ]
        },
        {
          "output_type": "stream",
          "name": "stdout",
          "text": [
            "  Threshold=0.40 → Accuracy: 1.0000\n",
            "  Confusion Matrix:\n",
            "[[260420]]\n",
            "  Threshold=0.50 → Accuracy: 1.0000\n"
          ]
        },
        {
          "output_type": "stream",
          "name": "stderr",
          "text": [
            "/usr/local/lib/python3.11/dist-packages/sklearn/metrics/_classification.py:407: UserWarning: A single label was found in 'y_true' and 'y_pred'. For the confusion matrix to have the correct shape, use the 'labels' parameter to pass all known labels.\n",
            "  warnings.warn(\n",
            "/usr/local/lib/python3.11/dist-packages/sklearn/metrics/_classification.py:407: UserWarning: A single label was found in 'y_true' and 'y_pred'. For the confusion matrix to have the correct shape, use the 'labels' parameter to pass all known labels.\n",
            "  warnings.warn(\n"
          ]
        },
        {
          "output_type": "stream",
          "name": "stdout",
          "text": [
            "  Confusion Matrix:\n",
            "[[260420]]\n",
            "  Threshold=0.60 → Accuracy: 1.0000\n",
            "  Confusion Matrix:\n",
            "[[260420]]\n"
          ]
        },
        {
          "output_type": "stream",
          "name": "stderr",
          "text": [
            "/usr/local/lib/python3.11/dist-packages/sklearn/metrics/_classification.py:407: UserWarning: A single label was found in 'y_true' and 'y_pred'. For the confusion matrix to have the correct shape, use the 'labels' parameter to pass all known labels.\n",
            "  warnings.warn(\n"
          ]
        }
      ]
    },
    {
      "cell_type": "markdown",
      "source": [
        "Analysis:\n",
        "The results show that the model is predicting only a single class for all test data, leading to a 100% accuracy, which is misleading because it's not making meaningful distinctions.\n",
        "The confusion matrix only contains one class ([[260420]]), meaning all test samples were classified into the same category, likely due to imbalanced data or a lack of variation in the selected target variable.\n"
      ],
      "metadata": {
        "id": "of-L_H-3KZEp"
      }
    }
  ]
}